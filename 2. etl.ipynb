{
 "cells": [
  {
   "cell_type": "code",
   "execution_count": 1,
   "metadata": {},
   "outputs": [],
   "source": [
    "import pandas as pd\n",
    "import numpy as np\n",
    "import json"
   ]
  },
  {
   "cell_type": "code",
   "execution_count": 2,
   "metadata": {},
   "outputs": [],
   "source": [
    "dt_suffix = '21_01_2023_20_08_24'"
   ]
  },
  {
   "cell_type": "code",
   "execution_count": 3,
   "metadata": {},
   "outputs": [],
   "source": [
    "with open(f'./data/raw/auctions_{dt_suffix}.json','r') as f:\n",
    "    auctions = json.load(f)"
   ]
  },
  {
   "cell_type": "code",
   "execution_count": 4,
   "metadata": {},
   "outputs": [],
   "source": [
    "execution_ts = auctions['execution_ts']"
   ]
  },
  {
   "cell_type": "code",
   "execution_count": 5,
   "metadata": {},
   "outputs": [
    {
     "name": "stdout",
     "output_type": "stream",
     "text": [
      "Wall time: 816 ms\n"
     ]
    }
   ],
   "source": [
    "%%time\n",
    "#https://towardsdatascience.com/all-pandas-json-normalize-you-should-know-for-flattening-json-13eae1dfb7dd\n",
    "df_auctions = pd.json_normalize(auctions['auctions'],max_level=3)"
   ]
  },
  {
   "cell_type": "code",
   "execution_count": 6,
   "metadata": {},
   "outputs": [
    {
     "name": "stdout",
     "output_type": "stream",
     "text": [
      "Wall time: 804 ms\n"
     ]
    }
   ],
   "source": [
    "%%time\n",
    "df_itens = pd.json_normalize(auctions['auctions'],record_path=['auction_itens'],\n",
    "        meta=['auction_number'],max_level=3)"
   ]
  },
  {
   "cell_type": "code",
   "execution_count": 7,
   "metadata": {},
   "outputs": [
    {
     "name": "stdout",
     "output_type": "stream",
     "text": [
      "Wall time: 601 ms\n"
     ]
    }
   ],
   "source": [
    "%%time\n",
    "df_bids = pd.json_normalize(auctions['auctions'],record_path=['auction_itens','auction_item_bids'],\n",
    "        meta=['auction_number',['auction_itens','auction_item_lote']],max_level=3)"
   ]
  },
  {
   "cell_type": "code",
   "execution_count": 8,
   "metadata": {},
   "outputs": [],
   "source": [
    "############\n",
    "##AUCTIONS##\n",
    "############\n",
    "df_auctions.drop(['auction_itens'],axis=1,inplace=True)\n",
    "df_auctions['execution_ts'] = execution_ts"
   ]
  },
  {
   "cell_type": "code",
   "execution_count": 9,
   "metadata": {},
   "outputs": [],
   "source": [
    "#############\n",
    "##OPTIONALS##\n",
    "#############\n",
    "df_itens_opt_name = df_itens['auction_item_optionals'].apply(pd.Series).reset_index().melt(id_vars='index').dropna()[['index', 'value']].set_index('index')\n",
    "df_itens_opt_number = df_itens['auction_number'].apply(pd.Series).reset_index().melt(id_vars='index').dropna()[['index', 'value']].set_index('index')\n",
    "df_itens_opt_lote = df_itens['auction_item_lote'].apply(pd.Series).reset_index().melt(id_vars='index').dropna()[['index', 'value']].set_index('index')\n",
    "df_optionals = pd.merge(\n",
    "    pd.merge(\n",
    "        df_itens_opt_number,df_itens_opt_lote,left_index=True,right_index=True\n",
    "    ),\n",
    "    df_itens_opt_name,left_index=True,right_index=True\n",
    ")\n",
    "df_optionals.columns = ['auction_number','auction_item_lote','auction_item_optionals']\n",
    "df_optionals['execution_ts'] = execution_ts"
   ]
  },
  {
   "cell_type": "code",
   "execution_count": 10,
   "metadata": {},
   "outputs": [],
   "source": [
    "#########\n",
    "##ITENS##\n",
    "#########\n",
    "df_itens.drop(['auction_item_bids','auction_item_optionals'],axis=1,inplace=True)\n",
    "cols = df_itens.columns\n",
    "reordered_cols = cols[-1:].append(cols[:-1])\n",
    "df_itens = df_itens[reordered_cols]\n",
    "df_itens['execution_ts'] = execution_ts"
   ]
  },
  {
   "cell_type": "code",
   "execution_count": 11,
   "metadata": {},
   "outputs": [],
   "source": [
    "########\n",
    "##BIDS##\n",
    "########\n",
    "df_bids.head()\n",
    "cols = df_bids.columns\n",
    "reordered_cols = cols[-2:].append(cols[:-2])\n",
    "df_bids = df_bids[reordered_cols]\n",
    "df_bids.rename({'auction_itens.auction_item_lote':'auction_item_lote'},axis=1,inplace=True)"
   ]
  },
  {
   "cell_type": "code",
   "execution_count": 12,
   "metadata": {},
   "outputs": [
    {
     "data": {
      "text/html": [
       "<div>\n",
       "<style scoped>\n",
       "    .dataframe tbody tr th:only-of-type {\n",
       "        vertical-align: middle;\n",
       "    }\n",
       "\n",
       "    .dataframe tbody tr th {\n",
       "        vertical-align: top;\n",
       "    }\n",
       "\n",
       "    .dataframe thead th {\n",
       "        text-align: right;\n",
       "    }\n",
       "</style>\n",
       "<table border=\"1\" class=\"dataframe\">\n",
       "  <thead>\n",
       "    <tr style=\"text-align: right;\">\n",
       "      <th></th>\n",
       "      <th>auction_number</th>\n",
       "      <th>auction_name</th>\n",
       "      <th>auction_category</th>\n",
       "      <th>auction_date</th>\n",
       "      <th>auction_status</th>\n",
       "      <th>auction_url</th>\n",
       "      <th>auction_edital_url</th>\n",
       "      <th>execution_ts</th>\n",
       "    </tr>\n",
       "  </thead>\n",
       "  <tbody>\n",
       "    <tr>\n",
       "      <th>0</th>\n",
       "      <td>1081</td>\n",
       "      <td>BANCOS E FINANCEIRAS</td>\n",
       "      <td>VEÍCULOS</td>\n",
       "      <td>25 jan 2023, 13:00</td>\n",
       "      <td>Lances online agora</td>\n",
       "      <td>https://www.parquedosleiloes.com.br/leilao/108...</td>\n",
       "      <td>https://www.parquedosleiloes.com.br/leilao/108...</td>\n",
       "      <td>21/01/2023 20:08:24</td>\n",
       "    </tr>\n",
       "    <tr>\n",
       "      <th>1</th>\n",
       "      <td>1074</td>\n",
       "      <td>BANCOS E FINANCEIRAS</td>\n",
       "      <td>VEÍCULOS</td>\n",
       "      <td>12 jan 2023, 13:00</td>\n",
       "      <td>Encerrado</td>\n",
       "      <td>https://www.parquedosleiloes.com.br/leilao/107...</td>\n",
       "      <td>https://www.parquedosleiloes.com.br/leilao/107...</td>\n",
       "      <td>21/01/2023 20:08:24</td>\n",
       "    </tr>\n",
       "  </tbody>\n",
       "</table>\n",
       "</div>"
      ],
      "text/plain": [
       "  auction_number          auction_name auction_category        auction_date  \\\n",
       "0           1081  BANCOS E FINANCEIRAS         VEÍCULOS  25 jan 2023, 13:00   \n",
       "1           1074  BANCOS E FINANCEIRAS         VEÍCULOS  12 jan 2023, 13:00   \n",
       "\n",
       "        auction_status                                        auction_url  \\\n",
       "0  Lances online agora  https://www.parquedosleiloes.com.br/leilao/108...   \n",
       "1            Encerrado  https://www.parquedosleiloes.com.br/leilao/107...   \n",
       "\n",
       "                                  auction_edital_url         execution_ts  \n",
       "0  https://www.parquedosleiloes.com.br/leilao/108...  21/01/2023 20:08:24  \n",
       "1  https://www.parquedosleiloes.com.br/leilao/107...  21/01/2023 20:08:24  "
      ]
     },
     "execution_count": 12,
     "metadata": {},
     "output_type": "execute_result"
    }
   ],
   "source": [
    "df_auctions.head(2)"
   ]
  },
  {
   "cell_type": "code",
   "execution_count": 13,
   "metadata": {},
   "outputs": [
    {
     "data": {
      "text/html": [
       "<div>\n",
       "<style scoped>\n",
       "    .dataframe tbody tr th:only-of-type {\n",
       "        vertical-align: middle;\n",
       "    }\n",
       "\n",
       "    .dataframe tbody tr th {\n",
       "        vertical-align: top;\n",
       "    }\n",
       "\n",
       "    .dataframe thead th {\n",
       "        text-align: right;\n",
       "    }\n",
       "</style>\n",
       "<table border=\"1\" class=\"dataframe\">\n",
       "  <thead>\n",
       "    <tr style=\"text-align: right;\">\n",
       "      <th></th>\n",
       "      <th>auction_number</th>\n",
       "      <th>auction_item_lote</th>\n",
       "      <th>auction_item_type</th>\n",
       "      <th>auction_item_name</th>\n",
       "      <th>auction_item_url</th>\n",
       "      <th>auction_item_min_bid_value</th>\n",
       "      <th>auction_item_increment_value</th>\n",
       "      <th>auction_item_highest_bid</th>\n",
       "      <th>auction_item_date_text</th>\n",
       "      <th>auction_item_description</th>\n",
       "      <th>auction_item_model</th>\n",
       "      <th>auction_item_brand</th>\n",
       "      <th>auction_item_model_year</th>\n",
       "      <th>auction_item_market_price</th>\n",
       "      <th>auction_item_color</th>\n",
       "      <th>auction_item_gas_type</th>\n",
       "      <th>auction_item_km</th>\n",
       "      <th>auction_item_refurbished</th>\n",
       "      <th>execution_ts</th>\n",
       "    </tr>\n",
       "  </thead>\n",
       "  <tbody>\n",
       "    <tr>\n",
       "      <th>0</th>\n",
       "      <td>1081</td>\n",
       "      <td>1</td>\n",
       "      <td>Online</td>\n",
       "      <td>FIAT ARGO DRIVE 1.3 2019/2020 VERMELHA</td>\n",
       "      <td>https://www.parquedosleiloes.com.br/leilao/108...</td>\n",
       "      <td>39500</td>\n",
       "      <td>500</td>\n",
       "      <td></td>\n",
       "      <td>Encerra em 25 jan 2023, 13:00:00</td>\n",
       "      <td>(SANTANDER) DOCUMENTO EM FASE DE EMISSÃO. PARA...</td>\n",
       "      <td>ARGO DRIVE 1.3</td>\n",
       "      <td>FIAT</td>\n",
       "      <td>2019/2020</td>\n",
       "      <td>R$ 66.377,00 / janeiro de 2023</td>\n",
       "      <td>VERMELHA</td>\n",
       "      <td>FLEX</td>\n",
       "      <td>49208</td>\n",
       "      <td>Não</td>\n",
       "      <td>21/01/2023 20:08:24</td>\n",
       "    </tr>\n",
       "    <tr>\n",
       "      <th>1</th>\n",
       "      <td>1081</td>\n",
       "      <td>2</td>\n",
       "      <td>Online</td>\n",
       "      <td>RENAULT SANDERO EXP1016V 2013/2014 VERMELHA</td>\n",
       "      <td>https://www.parquedosleiloes.com.br/leilao/108...</td>\n",
       "      <td>14500</td>\n",
       "      <td>500</td>\n",
       "      <td></td>\n",
       "      <td>Encerra em 25 jan 2023, 13:01:00</td>\n",
       "      <td>(SANTANDER) DOCUMENTO CRLV EM NOSSO ESCRITÓRIO...</td>\n",
       "      <td>SANDERO EXP1016V</td>\n",
       "      <td>RENAULT</td>\n",
       "      <td>2013/2014</td>\n",
       "      <td>R$ 32.779,00 / janeiro de 2023</td>\n",
       "      <td>VERMELHA</td>\n",
       "      <td>FLEX</td>\n",
       "      <td>205523</td>\n",
       "      <td>Não</td>\n",
       "      <td>21/01/2023 20:08:24</td>\n",
       "    </tr>\n",
       "  </tbody>\n",
       "</table>\n",
       "</div>"
      ],
      "text/plain": [
       "  auction_number auction_item_lote auction_item_type  \\\n",
       "0           1081                 1            Online   \n",
       "1           1081                 2            Online   \n",
       "\n",
       "                             auction_item_name  \\\n",
       "0       FIAT ARGO DRIVE 1.3 2019/2020 VERMELHA   \n",
       "1  RENAULT SANDERO EXP1016V 2013/2014 VERMELHA   \n",
       "\n",
       "                                    auction_item_url  \\\n",
       "0  https://www.parquedosleiloes.com.br/leilao/108...   \n",
       "1  https://www.parquedosleiloes.com.br/leilao/108...   \n",
       "\n",
       "  auction_item_min_bid_value auction_item_increment_value  \\\n",
       "0                      39500                          500   \n",
       "1                      14500                          500   \n",
       "\n",
       "  auction_item_highest_bid                auction_item_date_text  \\\n",
       "0                             Encerra em 25 jan 2023, 13:00:00     \n",
       "1                             Encerra em 25 jan 2023, 13:01:00     \n",
       "\n",
       "                            auction_item_description auction_item_model  \\\n",
       "0  (SANTANDER) DOCUMENTO EM FASE DE EMISSÃO. PARA...     ARGO DRIVE 1.3   \n",
       "1  (SANTANDER) DOCUMENTO CRLV EM NOSSO ESCRITÓRIO...   SANDERO EXP1016V   \n",
       "\n",
       "  auction_item_brand auction_item_model_year       auction_item_market_price  \\\n",
       "0               FIAT               2019/2020  R$ 66.377,00 / janeiro de 2023   \n",
       "1            RENAULT               2013/2014  R$ 32.779,00 / janeiro de 2023   \n",
       "\n",
       "  auction_item_color auction_item_gas_type auction_item_km  \\\n",
       "0           VERMELHA                  FLEX           49208   \n",
       "1           VERMELHA                  FLEX          205523   \n",
       "\n",
       "  auction_item_refurbished         execution_ts  \n",
       "0                      Não  21/01/2023 20:08:24  \n",
       "1                      Não  21/01/2023 20:08:24  "
      ]
     },
     "execution_count": 13,
     "metadata": {},
     "output_type": "execute_result"
    }
   ],
   "source": [
    "df_itens.head(2)"
   ]
  },
  {
   "cell_type": "code",
   "execution_count": 14,
   "metadata": {},
   "outputs": [
    {
     "data": {
      "text/html": [
       "<div>\n",
       "<style scoped>\n",
       "    .dataframe tbody tr th:only-of-type {\n",
       "        vertical-align: middle;\n",
       "    }\n",
       "\n",
       "    .dataframe tbody tr th {\n",
       "        vertical-align: top;\n",
       "    }\n",
       "\n",
       "    .dataframe thead th {\n",
       "        text-align: right;\n",
       "    }\n",
       "</style>\n",
       "<table border=\"1\" class=\"dataframe\">\n",
       "  <thead>\n",
       "    <tr style=\"text-align: right;\">\n",
       "      <th></th>\n",
       "      <th>auction_number</th>\n",
       "      <th>auction_item_lote</th>\n",
       "      <th>auction_item_optionals</th>\n",
       "      <th>execution_ts</th>\n",
       "    </tr>\n",
       "    <tr>\n",
       "      <th>index</th>\n",
       "      <th></th>\n",
       "      <th></th>\n",
       "      <th></th>\n",
       "      <th></th>\n",
       "    </tr>\n",
       "  </thead>\n",
       "  <tbody>\n",
       "    <tr>\n",
       "      <th>0</th>\n",
       "      <td>1081</td>\n",
       "      <td>1</td>\n",
       "      <td>AIR BAG</td>\n",
       "      <td>21/01/2023 20:08:24</td>\n",
       "    </tr>\n",
       "    <tr>\n",
       "      <th>0</th>\n",
       "      <td>1081</td>\n",
       "      <td>1</td>\n",
       "      <td>ALARME</td>\n",
       "      <td>21/01/2023 20:08:24</td>\n",
       "    </tr>\n",
       "  </tbody>\n",
       "</table>\n",
       "</div>"
      ],
      "text/plain": [
       "      auction_number auction_item_lote auction_item_optionals  \\\n",
       "index                                                           \n",
       "0               1081                 1                AIR BAG   \n",
       "0               1081                 1                 ALARME   \n",
       "\n",
       "              execution_ts  \n",
       "index                       \n",
       "0      21/01/2023 20:08:24  \n",
       "0      21/01/2023 20:08:24  "
      ]
     },
     "execution_count": 14,
     "metadata": {},
     "output_type": "execute_result"
    }
   ],
   "source": [
    "df_optionals.head(2)"
   ]
  },
  {
   "cell_type": "code",
   "execution_count": 15,
   "metadata": {},
   "outputs": [
    {
     "data": {
      "text/html": [
       "<div>\n",
       "<style scoped>\n",
       "    .dataframe tbody tr th:only-of-type {\n",
       "        vertical-align: middle;\n",
       "    }\n",
       "\n",
       "    .dataframe tbody tr th {\n",
       "        vertical-align: top;\n",
       "    }\n",
       "\n",
       "    .dataframe thead th {\n",
       "        text-align: right;\n",
       "    }\n",
       "</style>\n",
       "<table border=\"1\" class=\"dataframe\">\n",
       "  <thead>\n",
       "    <tr style=\"text-align: right;\">\n",
       "      <th></th>\n",
       "      <th>auction_number</th>\n",
       "      <th>auction_item_lote</th>\n",
       "      <th>auction_item_bid_value</th>\n",
       "      <th>auction_item_bid_type</th>\n",
       "      <th>auction_item_bid_datetime</th>\n",
       "      <th>auction_item_bid_user</th>\n",
       "    </tr>\n",
       "  </thead>\n",
       "  <tbody>\n",
       "    <tr>\n",
       "      <th>0</th>\n",
       "      <td>1081</td>\n",
       "      <td>16</td>\n",
       "      <td>12500</td>\n",
       "      <td>Lance manual</td>\n",
       "      <td>21/01/23 12:07:04.031</td>\n",
       "      <td>geovane</td>\n",
       "    </tr>\n",
       "    <tr>\n",
       "      <th>1</th>\n",
       "      <td>1081</td>\n",
       "      <td>19</td>\n",
       "      <td>11500</td>\n",
       "      <td>Lance manual</td>\n",
       "      <td>21/01/23 14:49:22.100</td>\n",
       "      <td>avelino16</td>\n",
       "    </tr>\n",
       "  </tbody>\n",
       "</table>\n",
       "</div>"
      ],
      "text/plain": [
       "  auction_number auction_item_lote auction_item_bid_value  \\\n",
       "0           1081                16                  12500   \n",
       "1           1081                19                  11500   \n",
       "\n",
       "  auction_item_bid_type auction_item_bid_datetime auction_item_bid_user  \n",
       "0          Lance manual     21/01/23 12:07:04.031               geovane  \n",
       "1          Lance manual     21/01/23 14:49:22.100             avelino16  "
      ]
     },
     "execution_count": 15,
     "metadata": {},
     "output_type": "execute_result"
    }
   ],
   "source": [
    "df_bids.head(2)"
   ]
  },
  {
   "cell_type": "code",
   "execution_count": 16,
   "metadata": {},
   "outputs": [],
   "source": [
    "df_auctions.to_csv(f'data/tabular/{dt_suffix}_auctions.csv',index=False)\n",
    "df_itens.to_csv(f'data/tabular/{dt_suffix}_itens.csv',index=False)\n",
    "df_optionals.to_csv(f'data/tabular/{dt_suffix}_optionals.csv',index=False)\n",
    "df_bids.to_csv(f'data/tabular/{dt_suffix}_bids.csv',index=False)\n"
   ]
  },
  {
   "cell_type": "code",
   "execution_count": null,
   "metadata": {},
   "outputs": [],
   "source": []
  }
 ],
 "metadata": {
  "kernelspec": {
   "display_name": "Python 3.7.0 64-bit",
   "language": "python",
   "name": "python3"
  },
  "language_info": {
   "codemirror_mode": {
    "name": "ipython",
    "version": 3
   },
   "file_extension": ".py",
   "mimetype": "text/x-python",
   "name": "python",
   "nbconvert_exporter": "python",
   "pygments_lexer": "ipython3",
   "version": "3.7.0 (v3.7.0:1bf9cc5093, Jun 27 2018, 04:59:51) [MSC v.1914 64 bit (AMD64)]"
  },
  "orig_nbformat": 4,
  "vscode": {
   "interpreter": {
    "hash": "b1c48bfa55aad10950a784971f566084dc4f1d1e56735e6727b7d14ae8182804"
   }
  }
 },
 "nbformat": 4,
 "nbformat_minor": 2
}
