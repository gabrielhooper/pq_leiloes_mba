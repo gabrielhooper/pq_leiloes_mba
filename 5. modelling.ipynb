{
 "cells": [
  {
   "cell_type": "code",
   "execution_count": 142,
   "metadata": {},
   "outputs": [],
   "source": [
    "import pandas as pd\n",
    "import numpy as np\n",
    "## dataviz\n",
    "import matplotlib.pyplot as plt\n",
    "import seaborn as sns\n",
    "## models\n",
    "from lightgbm import LGBMRegressor\n",
    "from xgboost import XGBRegressor\n",
    "from sklearn.ensemble import RandomForestRegressor\n",
    "from sklearn.linear_model import LinearRegression\n",
    "## utils\n",
    "from sklearn.model_selection import train_test_split\n",
    "from sklearn.metrics import mean_squared_error, r2_score, mean_absolute_error\n",
    "from sklearn.model_selection import cross_validate\n",
    "from sklearn.pipeline import make_pipeline\n",
    "# clf = make_pipeline(preprocessing.StandardScaler(), svm.SVC(C=1))\n",
    "from sklearn.preprocessing import OneHotEncoder\n",
    "from scipy.special import inv_boxcox\n",
    "from scipy.stats import boxcox\n",
    "from sklearn.preprocessing import LabelEncoder\n",
    "\n",
    "\n"
   ]
  },
  {
   "cell_type": "code",
   "execution_count": 100,
   "metadata": {},
   "outputs": [],
   "source": [
    "pd.set_option('display.max_columns', None)\n",
    "pd.set_option('display.max_rows', None)"
   ]
  },
  {
   "cell_type": "code",
   "execution_count": 23,
   "metadata": {},
   "outputs": [],
   "source": [
    "df_original = pd.read_csv('./data/treated/21_01_2023_20_08_24_pq_leiloes.csv')"
   ]
  },
  {
   "cell_type": "code",
   "execution_count": 164,
   "metadata": {},
   "outputs": [],
   "source": [
    "df_dec = df_original.drop(['auction_number','auction_item_lote','auction_item_type','auction_date','CÂMBIO MECÂNICO','FREIOS ABS',\n",
    "                        'target_percentage','target_diff','auction_item_highest_bid','BLINDAGEM'],\n",
    "                axis=1).copy()\n",
    "df_dec = df_dec.loc[df_dec['perc_dec'] >= 0]"
   ]
  },
  {
   "cell_type": "code",
   "execution_count": 165,
   "metadata": {},
   "outputs": [],
   "source": [
    "df_dec = df_dec.dropna(subset=['perc_dec'])"
   ]
  },
  {
   "cell_type": "code",
   "execution_count": 166,
   "metadata": {},
   "outputs": [
    {
     "data": {
      "text/html": [
       "<div>\n",
       "<style scoped>\n",
       "    .dataframe tbody tr th:only-of-type {\n",
       "        vertical-align: middle;\n",
       "    }\n",
       "\n",
       "    .dataframe tbody tr th {\n",
       "        vertical-align: top;\n",
       "    }\n",
       "\n",
       "    .dataframe thead th {\n",
       "        text-align: right;\n",
       "    }\n",
       "</style>\n",
       "<table border=\"1\" class=\"dataframe\">\n",
       "  <thead>\n",
       "    <tr style=\"text-align: right;\">\n",
       "      <th></th>\n",
       "      <th>auction_item_min_bid_value</th>\n",
       "      <th>auction_item_brand</th>\n",
       "      <th>auction_item_market_price</th>\n",
       "      <th>auction_item_color</th>\n",
       "      <th>auction_item_gas_type</th>\n",
       "      <th>auction_item_km</th>\n",
       "      <th>AIR BAG</th>\n",
       "      <th>ALARME</th>\n",
       "      <th>AR CONDICIONADO</th>\n",
       "      <th>CÂMBIO AUTOMÁTICO</th>\n",
       "      <th>DIREÇÃO HIDRÁULICA</th>\n",
       "      <th>TETO SOLAR</th>\n",
       "      <th>VIDRO ELÉTRICO</th>\n",
       "      <th>model_name</th>\n",
       "      <th>SEM_CHAVE</th>\n",
       "      <th>TRINCADO</th>\n",
       "      <th>AVARIADO</th>\n",
       "      <th>SINISTRO</th>\n",
       "      <th>item_age</th>\n",
       "      <th>perc_dec</th>\n",
       "    </tr>\n",
       "  </thead>\n",
       "  <tbody>\n",
       "    <tr>\n",
       "      <th>0</th>\n",
       "      <td>12500.0</td>\n",
       "      <td>VW</td>\n",
       "      <td>28092.0</td>\n",
       "      <td>BRANCA</td>\n",
       "      <td>FLEX</td>\n",
       "      <td>90790.0</td>\n",
       "      <td>0.0</td>\n",
       "      <td>0.0</td>\n",
       "      <td>0.0</td>\n",
       "      <td>0.0</td>\n",
       "      <td>0.0</td>\n",
       "      <td>0.0</td>\n",
       "      <td>1.0</td>\n",
       "      <td>NOVO</td>\n",
       "      <td>0.0</td>\n",
       "      <td>0.0</td>\n",
       "      <td>0.0</td>\n",
       "      <td>0.0</td>\n",
       "      <td>NaN</td>\n",
       "      <td>55.503346</td>\n",
       "    </tr>\n",
       "    <tr>\n",
       "      <th>1</th>\n",
       "      <td>11500.0</td>\n",
       "      <td>FIAT</td>\n",
       "      <td>25613.0</td>\n",
       "      <td>PRATA</td>\n",
       "      <td>FLEX</td>\n",
       "      <td>113718.0</td>\n",
       "      <td>0.0</td>\n",
       "      <td>0.0</td>\n",
       "      <td>1.0</td>\n",
       "      <td>0.0</td>\n",
       "      <td>1.0</td>\n",
       "      <td>0.0</td>\n",
       "      <td>1.0</td>\n",
       "      <td>UNO</td>\n",
       "      <td>0.0</td>\n",
       "      <td>0.0</td>\n",
       "      <td>0.0</td>\n",
       "      <td>0.0</td>\n",
       "      <td>NaN</td>\n",
       "      <td>55.100925</td>\n",
       "    </tr>\n",
       "    <tr>\n",
       "      <th>2</th>\n",
       "      <td>16000.0</td>\n",
       "      <td>CITROËN</td>\n",
       "      <td>36027.0</td>\n",
       "      <td>BRANCA</td>\n",
       "      <td>FLEX</td>\n",
       "      <td>119262.0</td>\n",
       "      <td>1.0</td>\n",
       "      <td>0.0</td>\n",
       "      <td>1.0</td>\n",
       "      <td>0.0</td>\n",
       "      <td>1.0</td>\n",
       "      <td>0.0</td>\n",
       "      <td>1.0</td>\n",
       "      <td>C3</td>\n",
       "      <td>0.0</td>\n",
       "      <td>0.0</td>\n",
       "      <td>1.0</td>\n",
       "      <td>0.0</td>\n",
       "      <td>NaN</td>\n",
       "      <td>55.588864</td>\n",
       "    </tr>\n",
       "    <tr>\n",
       "      <th>3</th>\n",
       "      <td>37500.0</td>\n",
       "      <td>FORD</td>\n",
       "      <td>83601.0</td>\n",
       "      <td>CINZA</td>\n",
       "      <td>FLEX</td>\n",
       "      <td>154564.0</td>\n",
       "      <td>1.0</td>\n",
       "      <td>0.0</td>\n",
       "      <td>1.0</td>\n",
       "      <td>0.0</td>\n",
       "      <td>1.0</td>\n",
       "      <td>0.0</td>\n",
       "      <td>1.0</td>\n",
       "      <td>RANGER</td>\n",
       "      <td>0.0</td>\n",
       "      <td>0.0</td>\n",
       "      <td>0.0</td>\n",
       "      <td>0.0</td>\n",
       "      <td>NaN</td>\n",
       "      <td>55.144077</td>\n",
       "    </tr>\n",
       "    <tr>\n",
       "      <th>4</th>\n",
       "      <td>17500.0</td>\n",
       "      <td>HYUNDAY</td>\n",
       "      <td>39484.0</td>\n",
       "      <td>PRATA</td>\n",
       "      <td>GASOLINA</td>\n",
       "      <td>149446.0</td>\n",
       "      <td>1.0</td>\n",
       "      <td>1.0</td>\n",
       "      <td>1.0</td>\n",
       "      <td>1.0</td>\n",
       "      <td>1.0</td>\n",
       "      <td>0.0</td>\n",
       "      <td>1.0</td>\n",
       "      <td>TUCSON</td>\n",
       "      <td>0.0</td>\n",
       "      <td>0.0</td>\n",
       "      <td>1.0</td>\n",
       "      <td>0.0</td>\n",
       "      <td>NaN</td>\n",
       "      <td>55.678249</td>\n",
       "    </tr>\n",
       "  </tbody>\n",
       "</table>\n",
       "</div>"
      ],
      "text/plain": [
       "   auction_item_min_bid_value auction_item_brand  auction_item_market_price  \\\n",
       "0                     12500.0                 VW                    28092.0   \n",
       "1                     11500.0               FIAT                    25613.0   \n",
       "2                     16000.0            CITROËN                    36027.0   \n",
       "3                     37500.0               FORD                    83601.0   \n",
       "4                     17500.0            HYUNDAY                    39484.0   \n",
       "\n",
       "  auction_item_color auction_item_gas_type  auction_item_km  AIR BAG  ALARME  \\\n",
       "0             BRANCA                  FLEX          90790.0      0.0     0.0   \n",
       "1              PRATA                  FLEX         113718.0      0.0     0.0   \n",
       "2             BRANCA                  FLEX         119262.0      1.0     0.0   \n",
       "3              CINZA                  FLEX         154564.0      1.0     0.0   \n",
       "4              PRATA              GASOLINA         149446.0      1.0     1.0   \n",
       "\n",
       "   AR CONDICIONADO  CÂMBIO AUTOMÁTICO  DIREÇÃO HIDRÁULICA  TETO SOLAR  \\\n",
       "0              0.0                0.0                 0.0         0.0   \n",
       "1              1.0                0.0                 1.0         0.0   \n",
       "2              1.0                0.0                 1.0         0.0   \n",
       "3              1.0                0.0                 1.0         0.0   \n",
       "4              1.0                1.0                 1.0         0.0   \n",
       "\n",
       "   VIDRO ELÉTRICO model_name  SEM_CHAVE  TRINCADO  AVARIADO  SINISTRO  \\\n",
       "0             1.0       NOVO        0.0       0.0       0.0       0.0   \n",
       "1             1.0        UNO        0.0       0.0       0.0       0.0   \n",
       "2             1.0         C3        0.0       0.0       1.0       0.0   \n",
       "3             1.0     RANGER        0.0       0.0       0.0       0.0   \n",
       "4             1.0     TUCSON        0.0       0.0       1.0       0.0   \n",
       "\n",
       "   item_age   perc_dec  \n",
       "0       NaN  55.503346  \n",
       "1       NaN  55.100925  \n",
       "2       NaN  55.588864  \n",
       "3       NaN  55.144077  \n",
       "4       NaN  55.678249  "
      ]
     },
     "execution_count": 166,
     "metadata": {},
     "output_type": "execute_result"
    }
   ],
   "source": [
    "df_dec.head(5)"
   ]
  },
  {
   "cell_type": "code",
   "execution_count": 167,
   "metadata": {},
   "outputs": [],
   "source": [
    "## Setting a minimum number of brands 30\n",
    "df_brands = pd.DataFrame(df_dec.auction_item_brand.value_counts()).reset_index()\n",
    "df_brands.columns=['auction_item_brand','qtd']\n",
    "df_brands['brand_name'] = np.where(df_brands.qtd>30,df_brands.auction_item_brand,'OUTROS')\n",
    "df_brands = df_brands.drop(['qtd'],axis=1)\n",
    "df_dec = df_dec.merge(df_brands,on='auction_item_brand',how='left')\n",
    "df_dec = df_dec.drop(['auction_item_brand'],axis=1)"
   ]
  },
  {
   "cell_type": "code",
   "execution_count": 168,
   "metadata": {},
   "outputs": [],
   "source": [
    "## Replacing values that are rare\n",
    "df_dec['auction_item_gas_type'] = np.where(df_dec['auction_item_gas_type'].isin(['GAS/ALC/GNV','-','ALCOOL','GÁS','GASOLINA/GNV']),\n",
    "                                            'FLEX',df_dec['auction_item_gas_type'])"
   ]
  },
  {
   "cell_type": "code",
   "execution_count": 169,
   "metadata": {},
   "outputs": [],
   "source": [
    "## Setting a minimum number of colors 50\n",
    "df_colors = pd.DataFrame(df_dec.auction_item_color.value_counts()).reset_index()\n",
    "df_colors.columns=['auction_item_color','qtd']\n",
    "df_colors['color'] = np.where(df_colors.qtd>50,df_colors.auction_item_color,'OUTROS')\n",
    "df_colors = df_colors.drop(['qtd'],axis=1)\n",
    "df_dec = df_dec.merge(df_colors,on='auction_item_color',how='left')\n",
    "df_dec = df_dec.drop(['auction_item_color'],axis=1)"
   ]
  },
  {
   "cell_type": "code",
   "execution_count": 170,
   "metadata": {},
   "outputs": [],
   "source": [
    "## Setting a minimum number of models 20\n",
    "df_models = pd.DataFrame(df_dec.model_name.value_counts()).reset_index()\n",
    "df_models.columns=['model_name','qtd']\n",
    "df_models['model'] = np.where(df_models.qtd>20,df_models.model_name,'OUTROS')\n",
    "df_models = df_models.drop(['qtd'],axis=1)\n",
    "df_dec = df_dec.merge(df_models,on='model_name',how='left')\n",
    "df_dec = df_dec.drop(['model_name'],axis=1)"
   ]
  },
  {
   "attachments": {},
   "cell_type": "markdown",
   "metadata": {},
   "source": [
    "### One Hot Encoding"
   ]
  },
  {
   "cell_type": "code",
   "execution_count": 171,
   "metadata": {},
   "outputs": [],
   "source": [
    "df_dec = pd.get_dummies(df_dec, columns = ['brand_name',\t'color',\t'model' ,'auction_item_gas_type'],drop_first=True)"
   ]
  },
  {
   "cell_type": "code",
   "execution_count": 172,
   "metadata": {},
   "outputs": [
    {
     "data": {
      "text/html": [
       "<div>\n",
       "<style scoped>\n",
       "    .dataframe tbody tr th:only-of-type {\n",
       "        vertical-align: middle;\n",
       "    }\n",
       "\n",
       "    .dataframe tbody tr th {\n",
       "        vertical-align: top;\n",
       "    }\n",
       "\n",
       "    .dataframe thead th {\n",
       "        text-align: right;\n",
       "    }\n",
       "</style>\n",
       "<table border=\"1\" class=\"dataframe\">\n",
       "  <thead>\n",
       "    <tr style=\"text-align: right;\">\n",
       "      <th></th>\n",
       "      <th>auction_item_min_bid_value</th>\n",
       "      <th>auction_item_market_price</th>\n",
       "      <th>auction_item_km</th>\n",
       "      <th>AIR BAG</th>\n",
       "      <th>ALARME</th>\n",
       "      <th>AR CONDICIONADO</th>\n",
       "      <th>CÂMBIO AUTOMÁTICO</th>\n",
       "      <th>DIREÇÃO HIDRÁULICA</th>\n",
       "      <th>TETO SOLAR</th>\n",
       "      <th>VIDRO ELÉTRICO</th>\n",
       "      <th>SEM_CHAVE</th>\n",
       "      <th>TRINCADO</th>\n",
       "      <th>AVARIADO</th>\n",
       "      <th>SINISTRO</th>\n",
       "      <th>item_age</th>\n",
       "      <th>perc_dec</th>\n",
       "      <th>brand_name_FIAT</th>\n",
       "      <th>brand_name_FORD</th>\n",
       "      <th>brand_name_GM</th>\n",
       "      <th>brand_name_HONDA</th>\n",
       "      <th>brand_name_HYUNDAY</th>\n",
       "      <th>brand_name_JAC</th>\n",
       "      <th>brand_name_JEEP</th>\n",
       "      <th>brand_name_MERCEDES BENZ</th>\n",
       "      <th>brand_name_MMC</th>\n",
       "      <th>brand_name_NISSAN</th>\n",
       "      <th>brand_name_OUTROS</th>\n",
       "      <th>brand_name_PEUGEOT</th>\n",
       "      <th>brand_name_RENAULT</th>\n",
       "      <th>brand_name_TOYOTA</th>\n",
       "      <th>brand_name_VW</th>\n",
       "      <th>brand_name_YAMAHA</th>\n",
       "      <th>color_BRANCA</th>\n",
       "      <th>color_CINZA</th>\n",
       "      <th>color_OUTROS</th>\n",
       "      <th>color_PRATA</th>\n",
       "      <th>color_PRETA</th>\n",
       "      <th>color_VERMELHA</th>\n",
       "      <th>model_208</th>\n",
       "      <th>model_ARGO</th>\n",
       "      <th>model_C3</th>\n",
       "      <th>model_CELTA</th>\n",
       "      <th>model_CG</th>\n",
       "      <th>model_CIVIC</th>\n",
       "      <th>model_CLASSIC</th>\n",
       "      <th>model_COMPASS</th>\n",
       "      <th>model_COROLLA</th>\n",
       "      <th>model_CRUZE</th>\n",
       "      <th>model_DUSTER</th>\n",
       "      <th>model_ECOSPORT</th>\n",
       "      <th>model_FIESTA</th>\n",
       "      <th>model_FIT</th>\n",
       "      <th>model_FOCUS</th>\n",
       "      <th>model_FOX</th>\n",
       "      <th>model_FUSION</th>\n",
       "      <th>model_GOL</th>\n",
       "      <th>model_HB20</th>\n",
       "      <th>model_HB20S</th>\n",
       "      <th>model_J3</th>\n",
       "      <th>model_KA</th>\n",
       "      <th>model_KWID</th>\n",
       "      <th>model_LOGAN</th>\n",
       "      <th>model_NOVO</th>\n",
       "      <th>model_ONIX</th>\n",
       "      <th>model_OUTROS</th>\n",
       "      <th>model_PALIO</th>\n",
       "      <th>model_POLO</th>\n",
       "      <th>model_PRISMA</th>\n",
       "      <th>model_RANGER</th>\n",
       "      <th>model_RENEGADE</th>\n",
       "      <th>model_S10</th>\n",
       "      <th>model_SANDERO</th>\n",
       "      <th>model_SANTA</th>\n",
       "      <th>model_SAVEIRO</th>\n",
       "      <th>model_SIENA</th>\n",
       "      <th>model_SPIN</th>\n",
       "      <th>model_STRADA</th>\n",
       "      <th>model_UNO</th>\n",
       "      <th>model_VERSA</th>\n",
       "      <th>model_VIRTUS</th>\n",
       "      <th>model_VOYAGE</th>\n",
       "      <th>auction_item_gas_type_FLEX</th>\n",
       "      <th>auction_item_gas_type_GASOLINA</th>\n",
       "    </tr>\n",
       "  </thead>\n",
       "  <tbody>\n",
       "    <tr>\n",
       "      <th>0</th>\n",
       "      <td>12500.0</td>\n",
       "      <td>28092.0</td>\n",
       "      <td>90790.0</td>\n",
       "      <td>0.0</td>\n",
       "      <td>0.0</td>\n",
       "      <td>0.0</td>\n",
       "      <td>0.0</td>\n",
       "      <td>0.0</td>\n",
       "      <td>0.0</td>\n",
       "      <td>1.0</td>\n",
       "      <td>0.0</td>\n",
       "      <td>0.0</td>\n",
       "      <td>0.0</td>\n",
       "      <td>0.0</td>\n",
       "      <td>NaN</td>\n",
       "      <td>55.503346</td>\n",
       "      <td>0</td>\n",
       "      <td>0</td>\n",
       "      <td>0</td>\n",
       "      <td>0</td>\n",
       "      <td>0</td>\n",
       "      <td>0</td>\n",
       "      <td>0</td>\n",
       "      <td>0</td>\n",
       "      <td>0</td>\n",
       "      <td>0</td>\n",
       "      <td>0</td>\n",
       "      <td>0</td>\n",
       "      <td>0</td>\n",
       "      <td>0</td>\n",
       "      <td>1</td>\n",
       "      <td>0</td>\n",
       "      <td>1</td>\n",
       "      <td>0</td>\n",
       "      <td>0</td>\n",
       "      <td>0</td>\n",
       "      <td>0</td>\n",
       "      <td>0</td>\n",
       "      <td>0</td>\n",
       "      <td>0</td>\n",
       "      <td>0</td>\n",
       "      <td>0</td>\n",
       "      <td>0</td>\n",
       "      <td>0</td>\n",
       "      <td>0</td>\n",
       "      <td>0</td>\n",
       "      <td>0</td>\n",
       "      <td>0</td>\n",
       "      <td>0</td>\n",
       "      <td>0</td>\n",
       "      <td>0</td>\n",
       "      <td>0</td>\n",
       "      <td>0</td>\n",
       "      <td>0</td>\n",
       "      <td>0</td>\n",
       "      <td>0</td>\n",
       "      <td>0</td>\n",
       "      <td>0</td>\n",
       "      <td>0</td>\n",
       "      <td>0</td>\n",
       "      <td>0</td>\n",
       "      <td>0</td>\n",
       "      <td>1</td>\n",
       "      <td>0</td>\n",
       "      <td>0</td>\n",
       "      <td>0</td>\n",
       "      <td>0</td>\n",
       "      <td>0</td>\n",
       "      <td>0</td>\n",
       "      <td>0</td>\n",
       "      <td>0</td>\n",
       "      <td>0</td>\n",
       "      <td>0</td>\n",
       "      <td>0</td>\n",
       "      <td>0</td>\n",
       "      <td>0</td>\n",
       "      <td>0</td>\n",
       "      <td>0</td>\n",
       "      <td>0</td>\n",
       "      <td>0</td>\n",
       "      <td>0</td>\n",
       "      <td>1</td>\n",
       "      <td>0</td>\n",
       "    </tr>\n",
       "    <tr>\n",
       "      <th>1</th>\n",
       "      <td>11500.0</td>\n",
       "      <td>25613.0</td>\n",
       "      <td>113718.0</td>\n",
       "      <td>0.0</td>\n",
       "      <td>0.0</td>\n",
       "      <td>1.0</td>\n",
       "      <td>0.0</td>\n",
       "      <td>1.0</td>\n",
       "      <td>0.0</td>\n",
       "      <td>1.0</td>\n",
       "      <td>0.0</td>\n",
       "      <td>0.0</td>\n",
       "      <td>0.0</td>\n",
       "      <td>0.0</td>\n",
       "      <td>NaN</td>\n",
       "      <td>55.100925</td>\n",
       "      <td>1</td>\n",
       "      <td>0</td>\n",
       "      <td>0</td>\n",
       "      <td>0</td>\n",
       "      <td>0</td>\n",
       "      <td>0</td>\n",
       "      <td>0</td>\n",
       "      <td>0</td>\n",
       "      <td>0</td>\n",
       "      <td>0</td>\n",
       "      <td>0</td>\n",
       "      <td>0</td>\n",
       "      <td>0</td>\n",
       "      <td>0</td>\n",
       "      <td>0</td>\n",
       "      <td>0</td>\n",
       "      <td>0</td>\n",
       "      <td>0</td>\n",
       "      <td>0</td>\n",
       "      <td>1</td>\n",
       "      <td>0</td>\n",
       "      <td>0</td>\n",
       "      <td>0</td>\n",
       "      <td>0</td>\n",
       "      <td>0</td>\n",
       "      <td>0</td>\n",
       "      <td>0</td>\n",
       "      <td>0</td>\n",
       "      <td>0</td>\n",
       "      <td>0</td>\n",
       "      <td>0</td>\n",
       "      <td>0</td>\n",
       "      <td>0</td>\n",
       "      <td>0</td>\n",
       "      <td>0</td>\n",
       "      <td>0</td>\n",
       "      <td>0</td>\n",
       "      <td>0</td>\n",
       "      <td>0</td>\n",
       "      <td>0</td>\n",
       "      <td>0</td>\n",
       "      <td>0</td>\n",
       "      <td>0</td>\n",
       "      <td>0</td>\n",
       "      <td>0</td>\n",
       "      <td>0</td>\n",
       "      <td>0</td>\n",
       "      <td>0</td>\n",
       "      <td>0</td>\n",
       "      <td>0</td>\n",
       "      <td>0</td>\n",
       "      <td>0</td>\n",
       "      <td>0</td>\n",
       "      <td>0</td>\n",
       "      <td>0</td>\n",
       "      <td>0</td>\n",
       "      <td>0</td>\n",
       "      <td>0</td>\n",
       "      <td>0</td>\n",
       "      <td>0</td>\n",
       "      <td>0</td>\n",
       "      <td>1</td>\n",
       "      <td>0</td>\n",
       "      <td>0</td>\n",
       "      <td>0</td>\n",
       "      <td>1</td>\n",
       "      <td>0</td>\n",
       "    </tr>\n",
       "    <tr>\n",
       "      <th>2</th>\n",
       "      <td>16000.0</td>\n",
       "      <td>36027.0</td>\n",
       "      <td>119262.0</td>\n",
       "      <td>1.0</td>\n",
       "      <td>0.0</td>\n",
       "      <td>1.0</td>\n",
       "      <td>0.0</td>\n",
       "      <td>1.0</td>\n",
       "      <td>0.0</td>\n",
       "      <td>1.0</td>\n",
       "      <td>0.0</td>\n",
       "      <td>0.0</td>\n",
       "      <td>1.0</td>\n",
       "      <td>0.0</td>\n",
       "      <td>NaN</td>\n",
       "      <td>55.588864</td>\n",
       "      <td>0</td>\n",
       "      <td>0</td>\n",
       "      <td>0</td>\n",
       "      <td>0</td>\n",
       "      <td>0</td>\n",
       "      <td>0</td>\n",
       "      <td>0</td>\n",
       "      <td>0</td>\n",
       "      <td>0</td>\n",
       "      <td>0</td>\n",
       "      <td>0</td>\n",
       "      <td>0</td>\n",
       "      <td>0</td>\n",
       "      <td>0</td>\n",
       "      <td>0</td>\n",
       "      <td>0</td>\n",
       "      <td>1</td>\n",
       "      <td>0</td>\n",
       "      <td>0</td>\n",
       "      <td>0</td>\n",
       "      <td>0</td>\n",
       "      <td>0</td>\n",
       "      <td>0</td>\n",
       "      <td>0</td>\n",
       "      <td>1</td>\n",
       "      <td>0</td>\n",
       "      <td>0</td>\n",
       "      <td>0</td>\n",
       "      <td>0</td>\n",
       "      <td>0</td>\n",
       "      <td>0</td>\n",
       "      <td>0</td>\n",
       "      <td>0</td>\n",
       "      <td>0</td>\n",
       "      <td>0</td>\n",
       "      <td>0</td>\n",
       "      <td>0</td>\n",
       "      <td>0</td>\n",
       "      <td>0</td>\n",
       "      <td>0</td>\n",
       "      <td>0</td>\n",
       "      <td>0</td>\n",
       "      <td>0</td>\n",
       "      <td>0</td>\n",
       "      <td>0</td>\n",
       "      <td>0</td>\n",
       "      <td>0</td>\n",
       "      <td>0</td>\n",
       "      <td>0</td>\n",
       "      <td>0</td>\n",
       "      <td>0</td>\n",
       "      <td>0</td>\n",
       "      <td>0</td>\n",
       "      <td>0</td>\n",
       "      <td>0</td>\n",
       "      <td>0</td>\n",
       "      <td>0</td>\n",
       "      <td>0</td>\n",
       "      <td>0</td>\n",
       "      <td>0</td>\n",
       "      <td>0</td>\n",
       "      <td>0</td>\n",
       "      <td>0</td>\n",
       "      <td>0</td>\n",
       "      <td>0</td>\n",
       "      <td>1</td>\n",
       "      <td>0</td>\n",
       "    </tr>\n",
       "    <tr>\n",
       "      <th>3</th>\n",
       "      <td>37500.0</td>\n",
       "      <td>83601.0</td>\n",
       "      <td>154564.0</td>\n",
       "      <td>1.0</td>\n",
       "      <td>0.0</td>\n",
       "      <td>1.0</td>\n",
       "      <td>0.0</td>\n",
       "      <td>1.0</td>\n",
       "      <td>0.0</td>\n",
       "      <td>1.0</td>\n",
       "      <td>0.0</td>\n",
       "      <td>0.0</td>\n",
       "      <td>0.0</td>\n",
       "      <td>0.0</td>\n",
       "      <td>NaN</td>\n",
       "      <td>55.144077</td>\n",
       "      <td>0</td>\n",
       "      <td>1</td>\n",
       "      <td>0</td>\n",
       "      <td>0</td>\n",
       "      <td>0</td>\n",
       "      <td>0</td>\n",
       "      <td>0</td>\n",
       "      <td>0</td>\n",
       "      <td>0</td>\n",
       "      <td>0</td>\n",
       "      <td>0</td>\n",
       "      <td>0</td>\n",
       "      <td>0</td>\n",
       "      <td>0</td>\n",
       "      <td>0</td>\n",
       "      <td>0</td>\n",
       "      <td>0</td>\n",
       "      <td>1</td>\n",
       "      <td>0</td>\n",
       "      <td>0</td>\n",
       "      <td>0</td>\n",
       "      <td>0</td>\n",
       "      <td>0</td>\n",
       "      <td>0</td>\n",
       "      <td>0</td>\n",
       "      <td>0</td>\n",
       "      <td>0</td>\n",
       "      <td>0</td>\n",
       "      <td>0</td>\n",
       "      <td>0</td>\n",
       "      <td>0</td>\n",
       "      <td>0</td>\n",
       "      <td>0</td>\n",
       "      <td>0</td>\n",
       "      <td>0</td>\n",
       "      <td>0</td>\n",
       "      <td>0</td>\n",
       "      <td>0</td>\n",
       "      <td>0</td>\n",
       "      <td>0</td>\n",
       "      <td>0</td>\n",
       "      <td>0</td>\n",
       "      <td>0</td>\n",
       "      <td>0</td>\n",
       "      <td>0</td>\n",
       "      <td>0</td>\n",
       "      <td>0</td>\n",
       "      <td>0</td>\n",
       "      <td>0</td>\n",
       "      <td>0</td>\n",
       "      <td>0</td>\n",
       "      <td>0</td>\n",
       "      <td>1</td>\n",
       "      <td>0</td>\n",
       "      <td>0</td>\n",
       "      <td>0</td>\n",
       "      <td>0</td>\n",
       "      <td>0</td>\n",
       "      <td>0</td>\n",
       "      <td>0</td>\n",
       "      <td>0</td>\n",
       "      <td>0</td>\n",
       "      <td>0</td>\n",
       "      <td>0</td>\n",
       "      <td>0</td>\n",
       "      <td>1</td>\n",
       "      <td>0</td>\n",
       "    </tr>\n",
       "    <tr>\n",
       "      <th>4</th>\n",
       "      <td>17500.0</td>\n",
       "      <td>39484.0</td>\n",
       "      <td>149446.0</td>\n",
       "      <td>1.0</td>\n",
       "      <td>1.0</td>\n",
       "      <td>1.0</td>\n",
       "      <td>1.0</td>\n",
       "      <td>1.0</td>\n",
       "      <td>0.0</td>\n",
       "      <td>1.0</td>\n",
       "      <td>0.0</td>\n",
       "      <td>0.0</td>\n",
       "      <td>1.0</td>\n",
       "      <td>0.0</td>\n",
       "      <td>NaN</td>\n",
       "      <td>55.678249</td>\n",
       "      <td>0</td>\n",
       "      <td>0</td>\n",
       "      <td>0</td>\n",
       "      <td>0</td>\n",
       "      <td>1</td>\n",
       "      <td>0</td>\n",
       "      <td>0</td>\n",
       "      <td>0</td>\n",
       "      <td>0</td>\n",
       "      <td>0</td>\n",
       "      <td>0</td>\n",
       "      <td>0</td>\n",
       "      <td>0</td>\n",
       "      <td>0</td>\n",
       "      <td>0</td>\n",
       "      <td>0</td>\n",
       "      <td>0</td>\n",
       "      <td>0</td>\n",
       "      <td>0</td>\n",
       "      <td>1</td>\n",
       "      <td>0</td>\n",
       "      <td>0</td>\n",
       "      <td>0</td>\n",
       "      <td>0</td>\n",
       "      <td>0</td>\n",
       "      <td>0</td>\n",
       "      <td>0</td>\n",
       "      <td>0</td>\n",
       "      <td>0</td>\n",
       "      <td>0</td>\n",
       "      <td>0</td>\n",
       "      <td>0</td>\n",
       "      <td>0</td>\n",
       "      <td>0</td>\n",
       "      <td>0</td>\n",
       "      <td>0</td>\n",
       "      <td>0</td>\n",
       "      <td>0</td>\n",
       "      <td>0</td>\n",
       "      <td>0</td>\n",
       "      <td>0</td>\n",
       "      <td>0</td>\n",
       "      <td>0</td>\n",
       "      <td>0</td>\n",
       "      <td>0</td>\n",
       "      <td>0</td>\n",
       "      <td>0</td>\n",
       "      <td>0</td>\n",
       "      <td>1</td>\n",
       "      <td>0</td>\n",
       "      <td>0</td>\n",
       "      <td>0</td>\n",
       "      <td>0</td>\n",
       "      <td>0</td>\n",
       "      <td>0</td>\n",
       "      <td>0</td>\n",
       "      <td>0</td>\n",
       "      <td>0</td>\n",
       "      <td>0</td>\n",
       "      <td>0</td>\n",
       "      <td>0</td>\n",
       "      <td>0</td>\n",
       "      <td>0</td>\n",
       "      <td>0</td>\n",
       "      <td>0</td>\n",
       "      <td>0</td>\n",
       "      <td>1</td>\n",
       "    </tr>\n",
       "  </tbody>\n",
       "</table>\n",
       "</div>"
      ],
      "text/plain": [
       "   auction_item_min_bid_value  auction_item_market_price  auction_item_km  \\\n",
       "0                     12500.0                    28092.0          90790.0   \n",
       "1                     11500.0                    25613.0         113718.0   \n",
       "2                     16000.0                    36027.0         119262.0   \n",
       "3                     37500.0                    83601.0         154564.0   \n",
       "4                     17500.0                    39484.0         149446.0   \n",
       "\n",
       "   AIR BAG  ALARME  AR CONDICIONADO  CÂMBIO AUTOMÁTICO  DIREÇÃO HIDRÁULICA  \\\n",
       "0      0.0     0.0              0.0                0.0                 0.0   \n",
       "1      0.0     0.0              1.0                0.0                 1.0   \n",
       "2      1.0     0.0              1.0                0.0                 1.0   \n",
       "3      1.0     0.0              1.0                0.0                 1.0   \n",
       "4      1.0     1.0              1.0                1.0                 1.0   \n",
       "\n",
       "   TETO SOLAR  VIDRO ELÉTRICO  SEM_CHAVE  TRINCADO  AVARIADO  SINISTRO  \\\n",
       "0         0.0             1.0        0.0       0.0       0.0       0.0   \n",
       "1         0.0             1.0        0.0       0.0       0.0       0.0   \n",
       "2         0.0             1.0        0.0       0.0       1.0       0.0   \n",
       "3         0.0             1.0        0.0       0.0       0.0       0.0   \n",
       "4         0.0             1.0        0.0       0.0       1.0       0.0   \n",
       "\n",
       "   item_age   perc_dec  brand_name_FIAT  brand_name_FORD  brand_name_GM  \\\n",
       "0       NaN  55.503346                0                0              0   \n",
       "1       NaN  55.100925                1                0              0   \n",
       "2       NaN  55.588864                0                0              0   \n",
       "3       NaN  55.144077                0                1              0   \n",
       "4       NaN  55.678249                0                0              0   \n",
       "\n",
       "   brand_name_HONDA  brand_name_HYUNDAY  brand_name_JAC  brand_name_JEEP  \\\n",
       "0                 0                   0               0                0   \n",
       "1                 0                   0               0                0   \n",
       "2                 0                   0               0                0   \n",
       "3                 0                   0               0                0   \n",
       "4                 0                   1               0                0   \n",
       "\n",
       "   brand_name_MERCEDES BENZ  brand_name_MMC  brand_name_NISSAN  \\\n",
       "0                         0               0                  0   \n",
       "1                         0               0                  0   \n",
       "2                         0               0                  0   \n",
       "3                         0               0                  0   \n",
       "4                         0               0                  0   \n",
       "\n",
       "   brand_name_OUTROS  brand_name_PEUGEOT  brand_name_RENAULT  \\\n",
       "0                  0                   0                   0   \n",
       "1                  0                   0                   0   \n",
       "2                  0                   0                   0   \n",
       "3                  0                   0                   0   \n",
       "4                  0                   0                   0   \n",
       "\n",
       "   brand_name_TOYOTA  brand_name_VW  brand_name_YAMAHA  color_BRANCA  \\\n",
       "0                  0              1                  0             1   \n",
       "1                  0              0                  0             0   \n",
       "2                  0              0                  0             1   \n",
       "3                  0              0                  0             0   \n",
       "4                  0              0                  0             0   \n",
       "\n",
       "   color_CINZA  color_OUTROS  color_PRATA  color_PRETA  color_VERMELHA  \\\n",
       "0            0             0            0            0               0   \n",
       "1            0             0            1            0               0   \n",
       "2            0             0            0            0               0   \n",
       "3            1             0            0            0               0   \n",
       "4            0             0            1            0               0   \n",
       "\n",
       "   model_208  model_ARGO  model_C3  model_CELTA  model_CG  model_CIVIC  \\\n",
       "0          0           0         0            0         0            0   \n",
       "1          0           0         0            0         0            0   \n",
       "2          0           0         1            0         0            0   \n",
       "3          0           0         0            0         0            0   \n",
       "4          0           0         0            0         0            0   \n",
       "\n",
       "   model_CLASSIC  model_COMPASS  model_COROLLA  model_CRUZE  model_DUSTER  \\\n",
       "0              0              0              0            0             0   \n",
       "1              0              0              0            0             0   \n",
       "2              0              0              0            0             0   \n",
       "3              0              0              0            0             0   \n",
       "4              0              0              0            0             0   \n",
       "\n",
       "   model_ECOSPORT  model_FIESTA  model_FIT  model_FOCUS  model_FOX  \\\n",
       "0               0             0          0            0          0   \n",
       "1               0             0          0            0          0   \n",
       "2               0             0          0            0          0   \n",
       "3               0             0          0            0          0   \n",
       "4               0             0          0            0          0   \n",
       "\n",
       "   model_FUSION  model_GOL  model_HB20  model_HB20S  model_J3  model_KA  \\\n",
       "0             0          0           0            0         0         0   \n",
       "1             0          0           0            0         0         0   \n",
       "2             0          0           0            0         0         0   \n",
       "3             0          0           0            0         0         0   \n",
       "4             0          0           0            0         0         0   \n",
       "\n",
       "   model_KWID  model_LOGAN  model_NOVO  model_ONIX  model_OUTROS  model_PALIO  \\\n",
       "0           0            0           1           0             0            0   \n",
       "1           0            0           0           0             0            0   \n",
       "2           0            0           0           0             0            0   \n",
       "3           0            0           0           0             0            0   \n",
       "4           0            0           0           0             1            0   \n",
       "\n",
       "   model_POLO  model_PRISMA  model_RANGER  model_RENEGADE  model_S10  \\\n",
       "0           0             0             0               0          0   \n",
       "1           0             0             0               0          0   \n",
       "2           0             0             0               0          0   \n",
       "3           0             0             1               0          0   \n",
       "4           0             0             0               0          0   \n",
       "\n",
       "   model_SANDERO  model_SANTA  model_SAVEIRO  model_SIENA  model_SPIN  \\\n",
       "0              0            0              0            0           0   \n",
       "1              0            0              0            0           0   \n",
       "2              0            0              0            0           0   \n",
       "3              0            0              0            0           0   \n",
       "4              0            0              0            0           0   \n",
       "\n",
       "   model_STRADA  model_UNO  model_VERSA  model_VIRTUS  model_VOYAGE  \\\n",
       "0             0          0            0             0             0   \n",
       "1             0          1            0             0             0   \n",
       "2             0          0            0             0             0   \n",
       "3             0          0            0             0             0   \n",
       "4             0          0            0             0             0   \n",
       "\n",
       "   auction_item_gas_type_FLEX  auction_item_gas_type_GASOLINA  \n",
       "0                           1                               0  \n",
       "1                           1                               0  \n",
       "2                           1                               0  \n",
       "3                           1                               0  \n",
       "4                           0                               1  "
      ]
     },
     "execution_count": 172,
     "metadata": {},
     "output_type": "execute_result"
    }
   ],
   "source": [
    "df_dec.head()"
   ]
  },
  {
   "attachments": {},
   "cell_type": "markdown",
   "metadata": {},
   "source": [
    "### Filling missing"
   ]
  },
  {
   "cell_type": "code",
   "execution_count": 251,
   "metadata": {},
   "outputs": [],
   "source": [
    "class filling_na():\n",
    "    def __init__(self):\n",
    "        self.parameter = {}\n",
    "\n",
    "    def fit(self,df,y=None):\n",
    "        ## Filling with mean value\n",
    "        for c in ['auction_item_km','item_age']:\n",
    "            self.parameter[c] = df[c].mean()\n",
    "        ## Filling na with round mean value\n",
    "        for c in ['AIR BAG','ALARME','AR CONDICIONADO','CÂMBIO AUTOMÁTICO','DIREÇÃO HIDRÁULICA','TETO SOLAR','VIDRO ELÉTRICO']:\n",
    "            self.parameter[c] = round(df[c].mean())\n",
    "\n",
    "    def fit_transform(self,df,y=None):\n",
    "        ## Filling with mean value\n",
    "        for c in ['auction_item_km','item_age']:\n",
    "            self.parameter[c] = df[c].mean()\n",
    "            df[c]  = df[c].fillna(self.parameter[c])\n",
    "        ## Filling na with round mean value\n",
    "        for c in ['AIR BAG','ALARME','AR CONDICIONADO','CÂMBIO AUTOMÁTICO','DIREÇÃO HIDRÁULICA','TETO SOLAR','VIDRO ELÉTRICO']:\n",
    "            self.parameter[c] = round(df[c].mean())\n",
    "            df[c] = df[c].fillna(self.parameter[c])\n",
    "        return df\n",
    "\n",
    "    def transform(self,df,y=None):\n",
    "        ## Filling with mean value\n",
    "        for c in ['auction_item_km','item_age']:\n",
    "            df[c]  = df[c].fillna(self.parameter[c])\n",
    "        ## Filling na with round mean value\n",
    "        for c in ['AIR BAG','ALARME','AR CONDICIONADO','CÂMBIO AUTOMÁTICO','DIREÇÃO HIDRÁULICA','TETO SOLAR','VIDRO ELÉTRICO']:\n",
    "            df[c] = df[c].fillna(self.parameter[c])\n",
    "        return df"
   ]
  },
  {
   "cell_type": "code",
   "execution_count": 252,
   "metadata": {},
   "outputs": [],
   "source": [
    "filler = filling_na()\n",
    "filler.fit(df_dec)"
   ]
  },
  {
   "attachments": {},
   "cell_type": "markdown",
   "metadata": {},
   "source": [
    "### Boxcox for linear model"
   ]
  },
  {
   "cell_type": "code",
   "execution_count": 253,
   "metadata": {},
   "outputs": [],
   "source": [
    "class boxcox_pipe():\n",
    "    def __init__(self,lmb= None):\n",
    "        self.lmb = lmb\n",
    "    \n",
    "    def fit(self,X,Y):\n",
    "        _, self.lmb = boxcox(Y)\n",
    "    def fit_transform(self,X,Y):\n",
    "        Y, self.lmb = boxcox(Y)\n",
    "        return X, Y\n",
    "    def transform(self,X,Y):\n",
    "        return X, boxcox(Y,lmbda=self.lmb)\n",
    "    def invert(self,Y):\n",
    "        return inv_boxcox(Y,self.lmb)"
   ]
  },
  {
   "cell_type": "code",
   "execution_count": 254,
   "metadata": {},
   "outputs": [],
   "source": [
    "bp = boxcox_pipe()"
   ]
  },
  {
   "cell_type": "markdown",
   "metadata": {},
   "source": [
    "### Splitting dataframe"
   ]
  },
  {
   "cell_type": "code",
   "execution_count": 268,
   "metadata": {},
   "outputs": [],
   "source": [
    "df_train, df_valid = train_test_split(df_dec, test_size=0.3,  random_state=RS)"
   ]
  },
  {
   "attachments": {},
   "cell_type": "markdown",
   "metadata": {},
   "source": [
    "### Linear model - boxcox"
   ]
  },
  {
   "cell_type": "code",
   "execution_count": 297,
   "metadata": {},
   "outputs": [],
   "source": [
    "df_train_lm, df_valid_lm = df_train.copy(), df_valid.copy()"
   ]
  },
  {
   "cell_type": "code",
   "execution_count": 298,
   "metadata": {},
   "outputs": [],
   "source": [
    "_, df_train_lm.perc_dec = bp.fit_transform('',df_train_lm.perc_dec)"
   ]
  },
  {
   "cell_type": "code",
   "execution_count": 299,
   "metadata": {},
   "outputs": [],
   "source": [
    "cv = 2\n",
    "clf_lm = make_pipeline(filling_na(),LinearRegression() )\n",
    "# scores = cross_validate(clf_lm, df_dec.drop(['perc_dec'],axis=1), df_dec.perc_dec, cv=cv,\n",
    "#                             return_train_score = True, return_estimator = True)"
   ]
  },
  {
   "cell_type": "code",
   "execution_count": 300,
   "metadata": {},
   "outputs": [
    {
     "data": {
      "text/plain": [
       "Pipeline(steps=[('filling_na',\n",
       "                 <__main__.filling_na object at 0x0000020DBCF49668>),\n",
       "                ('linearregression', LinearRegression())])"
      ]
     },
     "execution_count": 300,
     "metadata": {},
     "output_type": "execute_result"
    }
   ],
   "source": [
    "clf_lm.fit(df_train_lm.drop(['perc_dec'],axis=1), df_train_lm.perc_dec)"
   ]
  },
  {
   "cell_type": "code",
   "execution_count": 301,
   "metadata": {},
   "outputs": [],
   "source": [
    "df_train_lm['lm_fit'] = clf_lm.predict(df_train_lm.drop(['perc_dec'],axis=1))"
   ]
  },
  {
   "cell_type": "code",
   "execution_count": 302,
   "metadata": {},
   "outputs": [
    {
     "data": {
      "text/plain": [
       "0.45430762864835095"
      ]
     },
     "execution_count": 302,
     "metadata": {},
     "output_type": "execute_result"
    }
   ],
   "source": [
    "r2_score(df_train_lm.perc_dec,df_train_lm.lm_fit)"
   ]
  },
  {
   "cell_type": "code",
   "execution_count": 303,
   "metadata": {},
   "outputs": [],
   "source": [
    "df_valid_lm['lm_fit'] = clf_lm.predict(df_valid_lm.drop(['perc_dec'],axis=1))"
   ]
  },
  {
   "cell_type": "code",
   "execution_count": 304,
   "metadata": {},
   "outputs": [],
   "source": [
    "df_valid_lm['lm_fit'] = bp.invert(df_valid_lm['lm_fit'])"
   ]
  },
  {
   "cell_type": "code",
   "execution_count": 305,
   "metadata": {},
   "outputs": [
    {
     "data": {
      "text/plain": [
       "0.477104280348418"
      ]
     },
     "execution_count": 305,
     "metadata": {},
     "output_type": "execute_result"
    }
   ],
   "source": [
    "r2_score(df_valid_lm.perc_dec,df_valid_lm.lm_fit)"
   ]
  },
  {
   "cell_type": "code",
   "execution_count": 306,
   "metadata": {},
   "outputs": [
    {
     "data": {
      "text/plain": [
       "array([-8.56427079e-05,  5.28111484e-05,  2.28209753e-06, -2.90062410e-01,\n",
       "       -3.57057533e-03, -3.57712167e-01, -2.78167540e-01, -7.29099698e-02,\n",
       "        1.13199166e-01, -1.17196009e-01,  3.13306185e-01,  2.21550537e-01,\n",
       "        4.53328589e-01,  1.01153425e+00,  2.63308287e-02, -1.04967956e+00,\n",
       "       -1.15901689e+00, -1.73642125e-01, -1.63374617e+00, -1.06840948e+00,\n",
       "        1.04312891e+00, -1.97737187e+00, -1.84815204e-01, -9.36633190e-01,\n",
       "       -3.23429279e-01, -5.43922915e-01,  3.90449475e-01,  1.06058749e-01,\n",
       "       -1.40760446e+00, -4.51999383e-01, -1.45087255e+00,  3.11984317e-02,\n",
       "        1.15552644e-01,  2.00612300e-02,  5.27956700e-02,  4.72296302e-01,\n",
       "       -5.60038305e-02,  5.99074806e-02,  1.39065457e+00,  1.71292146e+00,\n",
       "       -8.74466529e-02,  1.74000654e+00,  1.72557108e+00,  7.97509677e-01,\n",
       "        2.88601311e+00,  1.65487110e+00,  9.50008607e-01,  1.47848198e-01,\n",
       "        1.47866724e+00,  2.35087336e+00,  1.84913795e+00,  2.25750599e+00,\n",
       "        7.96460671e-01,  2.07561175e+00,  1.43101233e+00,  7.52780293e-01,\n",
       "        1.51862719e+00, -2.41865547e-01,  1.44278825e+00, -1.69782140e-01,\n",
       "        9.92949094e-01,  3.13983705e-01,  3.29027372e-01,  1.35309460e+00,\n",
       "        1.75375290e+00,  9.12044261e-01,  2.26561103e-01,  1.70087462e+00,\n",
       "        2.16392791e+00,  8.51365335e-01,  6.17607934e-01,  4.22230628e+00,\n",
       "        1.48585611e+00,  1.89313577e+00,  2.31782694e+00,  8.51060062e-01,\n",
       "        1.45820811e+00,  6.37206070e-01,  2.34926937e-01,  1.48710224e+00,\n",
       "        4.13653381e-02,  3.72406217e-01])"
      ]
     },
     "execution_count": 306,
     "metadata": {},
     "output_type": "execute_result"
    }
   ],
   "source": [
    "clf_lm[1].coef_"
   ]
  },
  {
   "cell_type": "code",
   "execution_count": 307,
   "metadata": {},
   "outputs": [
    {
     "data": {
      "text/plain": [
       "7.867186854731642"
      ]
     },
     "execution_count": 307,
     "metadata": {},
     "output_type": "execute_result"
    }
   ],
   "source": [
    "clf_lm[1].intercept_"
   ]
  },
  {
   "cell_type": "code",
   "execution_count": 308,
   "metadata": {},
   "outputs": [
    {
     "name": "stderr",
     "output_type": "stream",
     "text": [
      "c:\\Users\\gabri\\AppData\\Local\\Programs\\Python\\Python37\\lib\\site-packages\\seaborn\\_decorators.py:43: FutureWarning: Pass the following variables as keyword args: x, y. From version 0.12, the only valid positional argument will be `data`, and passing other arguments without an explicit keyword will result in an error or misinterpretation.\n",
      "  FutureWarning\n"
     ]
    },
    {
     "data": {
      "text/plain": [
       "<AxesSubplot:xlabel='perc_dec', ylabel='lm_fit'>"
      ]
     },
     "execution_count": 308,
     "metadata": {},
     "output_type": "execute_result"
    },
    {
     "data": {
      "image/png": "[encoded data removed]",
      "text/plain": [
       "<Figure size 432x288 with 1 Axes>"
      ]
     },
     "metadata": {
      "needs_background": "light"
     },
     "output_type": "display_data"
    }
   ],
   "source": [
    "sns.scatterplot(df_valid_lm.perc_dec,df_valid_lm.lm_fit)"
   ]
  },
  {
   "attachments": {},
   "cell_type": "markdown",
   "metadata": {},
   "source": [
    "### Linear model - plain"
   ]
  },
  {
   "cell_type": "code",
   "execution_count": 286,
   "metadata": {},
   "outputs": [],
   "source": [
    "df_train_lm, df_valid_lm = df_train.copy(), df_valid.copy()"
   ]
  },
  {
   "cell_type": "code",
   "execution_count": 288,
   "metadata": {},
   "outputs": [],
   "source": [
    "clf_lm = make_pipeline(filling_na(),LinearRegression() )"
   ]
  },
  {
   "cell_type": "code",
   "execution_count": 289,
   "metadata": {},
   "outputs": [
    {
     "data": {
      "text/plain": [
       "Pipeline(steps=[('filling_na',\n",
       "                 <__main__.filling_na object at 0x0000020DC2570358>),\n",
       "                ('linearregression', LinearRegression())])"
      ]
     },
     "execution_count": 289,
     "metadata": {},
     "output_type": "execute_result"
    }
   ],
   "source": [
    "clf_lm.fit(df_train_lm.drop(['perc_dec'],axis=1), df_train_lm.perc_dec)"
   ]
  },
  {
   "cell_type": "code",
   "execution_count": 290,
   "metadata": {},
   "outputs": [],
   "source": [
    "df_train_lm['lm_fit'] = clf_lm.predict(df_train_lm.drop(['perc_dec'],axis=1))"
   ]
  },
  {
   "cell_type": "code",
   "execution_count": 291,
   "metadata": {},
   "outputs": [
    {
     "data": {
      "text/plain": [
       "0.4726532055837437"
      ]
     },
     "execution_count": 291,
     "metadata": {},
     "output_type": "execute_result"
    }
   ],
   "source": [
    "r2_score(df_train_lm.perc_dec,df_train_lm.lm_fit)"
   ]
  },
  {
   "cell_type": "code",
   "execution_count": 292,
   "metadata": {},
   "outputs": [],
   "source": [
    "df_valid_lm['lm_fit'] = clf_lm.predict(df_valid_lm.drop(['perc_dec'],axis=1))"
   ]
  },
  {
   "cell_type": "code",
   "execution_count": 293,
   "metadata": {},
   "outputs": [
    {
     "data": {
      "text/plain": [
       "0.4671060408663614"
      ]
     },
     "execution_count": 293,
     "metadata": {},
     "output_type": "execute_result"
    }
   ],
   "source": [
    "r2_score(df_valid_lm.perc_dec,df_valid_lm.lm_fit)"
   ]
  },
  {
   "cell_type": "code",
   "execution_count": 294,
   "metadata": {},
   "outputs": [
    {
     "data": {
      "text/plain": [
       "array([-5.70481841e-04,  3.49512275e-04,  1.48634733e-05, -2.09207671e+00,\n",
       "       -3.12163737e-01, -2.52291701e+00, -1.54041023e+00, -6.15044475e-01,\n",
       "        7.70052578e-01, -6.27485713e-01,  2.12821364e+00,  1.33433104e+00,\n",
       "        3.10318743e+00,  6.31691215e+00,  1.61894942e-01, -6.83858673e+00,\n",
       "       -7.19066253e+00, -1.19740823e+00, -1.00596715e+01, -7.02467940e+00,\n",
       "        8.64467022e+00, -1.39131674e+01, -7.60665687e-01, -5.92716255e+00,\n",
       "       -1.51207170e+00, -3.20434948e+00,  2.85527503e+00,  1.20733023e+00,\n",
       "       -8.06150214e+00, -2.68876205e+00, -1.01044249e+01,  2.30940910e-01,\n",
       "        7.43424999e-01,  2.00545331e-01,  4.39168420e-01,  3.19811681e+00,\n",
       "       -5.37048630e-01,  2.07116126e-01,  9.13031560e+00,  1.09454736e+01,\n",
       "       -8.79325347e-01,  1.05474762e+01,  1.00682162e+01,  4.56848008e+00,\n",
       "        2.07163427e+01,  1.06089017e+01,  5.44191632e+00,  5.19448350e-02,\n",
       "        8.89124517e+00,  1.50206782e+01,  1.13811977e+01,  1.41909617e+01,\n",
       "        4.55767160e+00,  1.27402439e+01,  9.67484875e+00,  4.96778791e+00,\n",
       "        9.68377308e+00, -3.35613313e+00,  8.89109373e+00, -1.40399108e+00,\n",
       "        5.83831697e+00,  1.75323559e+00,  2.22937420e+00,  8.51634026e+00,\n",
       "        1.09901386e+01,  5.26310623e+00,  1.12741107e+00,  1.02210188e+01,\n",
       "        1.55593728e+01,  5.57379447e+00,  3.21263694e+00,  3.11341319e+01,\n",
       "        9.26512377e+00,  1.22838175e+01,  1.52179851e+01,  6.48982966e+00,\n",
       "        9.67047050e+00,  2.81766458e+00,  1.70400221e+00,  9.71878191e+00,\n",
       "        5.89056208e-02,  2.02116896e+00])"
      ]
     },
     "execution_count": 294,
     "metadata": {},
     "output_type": "execute_result"
    }
   ],
   "source": [
    "clf_lm[1].coef_"
   ]
  },
  {
   "cell_type": "code",
   "execution_count": 295,
   "metadata": {},
   "outputs": [
    {
     "data": {
      "text/plain": [
       "28.351975370106466"
      ]
     },
     "execution_count": 295,
     "metadata": {},
     "output_type": "execute_result"
    }
   ],
   "source": [
    "clf_lm[1].intercept_"
   ]
  },
  {
   "cell_type": "code",
   "execution_count": 296,
   "metadata": {},
   "outputs": [
    {
     "name": "stderr",
     "output_type": "stream",
     "text": [
      "c:\\Users\\gabri\\AppData\\Local\\Programs\\Python\\Python37\\lib\\site-packages\\seaborn\\_decorators.py:43: FutureWarning: Pass the following variables as keyword args: x, y. From version 0.12, the only valid positional argument will be `data`, and passing other arguments without an explicit keyword will result in an error or misinterpretation.\n",
      "  FutureWarning\n"
     ]
    },
    {
     "data": {
      "text/plain": [
       "<AxesSubplot:xlabel='perc_dec', ylabel='lm_fit'>"
      ]
     },
     "execution_count": 296,
     "metadata": {},
     "output_type": "execute_result"
    },
    {
     "data": {
      "image/png": "[encoded data removed]",
      "text/plain": [
       "<Figure size 432x288 with 1 Axes>"
      ]
     },
     "metadata": {
      "needs_background": "light"
     },
     "output_type": "display_data"
    }
   ],
   "source": [
    "sns.scatterplot(df_valid_lm.perc_dec,df_valid_lm.lm_fit)"
   ]
  },
  {
   "attachments": {},
   "cell_type": "markdown",
   "metadata": {},
   "source": [
    "### Ligthgbm"
   ]
  },
  {
   "cell_type": "code",
   "execution_count": 331,
   "metadata": {},
   "outputs": [],
   "source": [
    "df_train_light, df_valid_light = df_train.copy(), df_valid.copy()"
   ]
  },
  {
   "cell_type": "code",
   "execution_count": 332,
   "metadata": {},
   "outputs": [
    {
     "name": "stderr",
     "output_type": "stream",
     "text": [
      "c:\\Users\\gabri\\AppData\\Local\\Programs\\Python\\Python37\\lib\\site-packages\\ipykernel_launcher.py:17: SettingWithCopyWarning: \n",
      "A value is trying to be set on a copy of a slice from a DataFrame.\n",
      "Try using .loc[row_indexer,col_indexer] = value instead\n",
      "\n",
      "See the caveats in the documentation: https://pandas.pydata.org/pandas-docs/stable/user_guide/indexing.html#returning-a-view-versus-a-copy\n",
      "c:\\Users\\gabri\\AppData\\Local\\Programs\\Python\\Python37\\lib\\site-packages\\ipykernel_launcher.py:21: SettingWithCopyWarning: \n",
      "A value is trying to be set on a copy of a slice from a DataFrame.\n",
      "Try using .loc[row_indexer,col_indexer] = value instead\n",
      "\n",
      "See the caveats in the documentation: https://pandas.pydata.org/pandas-docs/stable/user_guide/indexing.html#returning-a-view-versus-a-copy\n",
      "c:\\Users\\gabri\\AppData\\Local\\Programs\\Python\\Python37\\lib\\site-packages\\ipykernel_launcher.py:27: SettingWithCopyWarning: \n",
      "A value is trying to be set on a copy of a slice from a DataFrame.\n",
      "Try using .loc[row_indexer,col_indexer] = value instead\n",
      "\n",
      "See the caveats in the documentation: https://pandas.pydata.org/pandas-docs/stable/user_guide/indexing.html#returning-a-view-versus-a-copy\n",
      "c:\\Users\\gabri\\AppData\\Local\\Programs\\Python\\Python37\\lib\\site-packages\\ipykernel_launcher.py:30: SettingWithCopyWarning: \n",
      "A value is trying to be set on a copy of a slice from a DataFrame.\n",
      "Try using .loc[row_indexer,col_indexer] = value instead\n",
      "\n",
      "See the caveats in the documentation: https://pandas.pydata.org/pandas-docs/stable/user_guide/indexing.html#returning-a-view-versus-a-copy\n",
      "c:\\Users\\gabri\\AppData\\Local\\Programs\\Python\\Python37\\lib\\site-packages\\ipykernel_launcher.py:27: SettingWithCopyWarning: \n",
      "A value is trying to be set on a copy of a slice from a DataFrame.\n",
      "Try using .loc[row_indexer,col_indexer] = value instead\n",
      "\n",
      "See the caveats in the documentation: https://pandas.pydata.org/pandas-docs/stable/user_guide/indexing.html#returning-a-view-versus-a-copy\n",
      "c:\\Users\\gabri\\AppData\\Local\\Programs\\Python\\Python37\\lib\\site-packages\\ipykernel_launcher.py:30: SettingWithCopyWarning: \n",
      "A value is trying to be set on a copy of a slice from a DataFrame.\n",
      "Try using .loc[row_indexer,col_indexer] = value instead\n",
      "\n",
      "See the caveats in the documentation: https://pandas.pydata.org/pandas-docs/stable/user_guide/indexing.html#returning-a-view-versus-a-copy\n",
      "c:\\Users\\gabri\\AppData\\Local\\Programs\\Python\\Python37\\lib\\site-packages\\ipykernel_launcher.py:17: SettingWithCopyWarning: \n",
      "A value is trying to be set on a copy of a slice from a DataFrame.\n",
      "Try using .loc[row_indexer,col_indexer] = value instead\n",
      "\n",
      "See the caveats in the documentation: https://pandas.pydata.org/pandas-docs/stable/user_guide/indexing.html#returning-a-view-versus-a-copy\n",
      "c:\\Users\\gabri\\AppData\\Local\\Programs\\Python\\Python37\\lib\\site-packages\\ipykernel_launcher.py:21: SettingWithCopyWarning: \n",
      "A value is trying to be set on a copy of a slice from a DataFrame.\n",
      "Try using .loc[row_indexer,col_indexer] = value instead\n",
      "\n",
      "See the caveats in the documentation: https://pandas.pydata.org/pandas-docs/stable/user_guide/indexing.html#returning-a-view-versus-a-copy\n",
      "c:\\Users\\gabri\\AppData\\Local\\Programs\\Python\\Python37\\lib\\site-packages\\ipykernel_launcher.py:27: SettingWithCopyWarning: \n",
      "A value is trying to be set on a copy of a slice from a DataFrame.\n",
      "Try using .loc[row_indexer,col_indexer] = value instead\n",
      "\n",
      "See the caveats in the documentation: https://pandas.pydata.org/pandas-docs/stable/user_guide/indexing.html#returning-a-view-versus-a-copy\n",
      "c:\\Users\\gabri\\AppData\\Local\\Programs\\Python\\Python37\\lib\\site-packages\\ipykernel_launcher.py:30: SettingWithCopyWarning: \n",
      "A value is trying to be set on a copy of a slice from a DataFrame.\n",
      "Try using .loc[row_indexer,col_indexer] = value instead\n",
      "\n",
      "See the caveats in the documentation: https://pandas.pydata.org/pandas-docs/stable/user_guide/indexing.html#returning-a-view-versus-a-copy\n",
      "c:\\Users\\gabri\\AppData\\Local\\Programs\\Python\\Python37\\lib\\site-packages\\ipykernel_launcher.py:27: SettingWithCopyWarning: \n",
      "A value is trying to be set on a copy of a slice from a DataFrame.\n",
      "Try using .loc[row_indexer,col_indexer] = value instead\n",
      "\n",
      "See the caveats in the documentation: https://pandas.pydata.org/pandas-docs/stable/user_guide/indexing.html#returning-a-view-versus-a-copy\n",
      "c:\\Users\\gabri\\AppData\\Local\\Programs\\Python\\Python37\\lib\\site-packages\\ipykernel_launcher.py:30: SettingWithCopyWarning: \n",
      "A value is trying to be set on a copy of a slice from a DataFrame.\n",
      "Try using .loc[row_indexer,col_indexer] = value instead\n",
      "\n",
      "See the caveats in the documentation: https://pandas.pydata.org/pandas-docs/stable/user_guide/indexing.html#returning-a-view-versus-a-copy\n",
      "c:\\Users\\gabri\\AppData\\Local\\Programs\\Python\\Python37\\lib\\site-packages\\ipykernel_launcher.py:17: SettingWithCopyWarning: \n",
      "A value is trying to be set on a copy of a slice from a DataFrame.\n",
      "Try using .loc[row_indexer,col_indexer] = value instead\n",
      "\n",
      "See the caveats in the documentation: https://pandas.pydata.org/pandas-docs/stable/user_guide/indexing.html#returning-a-view-versus-a-copy\n",
      "c:\\Users\\gabri\\AppData\\Local\\Programs\\Python\\Python37\\lib\\site-packages\\ipykernel_launcher.py:21: SettingWithCopyWarning: \n",
      "A value is trying to be set on a copy of a slice from a DataFrame.\n",
      "Try using .loc[row_indexer,col_indexer] = value instead\n",
      "\n",
      "See the caveats in the documentation: https://pandas.pydata.org/pandas-docs/stable/user_guide/indexing.html#returning-a-view-versus-a-copy\n",
      "c:\\Users\\gabri\\AppData\\Local\\Programs\\Python\\Python37\\lib\\site-packages\\ipykernel_launcher.py:27: SettingWithCopyWarning: \n",
      "A value is trying to be set on a copy of a slice from a DataFrame.\n",
      "Try using .loc[row_indexer,col_indexer] = value instead\n",
      "\n",
      "See the caveats in the documentation: https://pandas.pydata.org/pandas-docs/stable/user_guide/indexing.html#returning-a-view-versus-a-copy\n",
      "c:\\Users\\gabri\\AppData\\Local\\Programs\\Python\\Python37\\lib\\site-packages\\ipykernel_launcher.py:30: SettingWithCopyWarning: \n",
      "A value is trying to be set on a copy of a slice from a DataFrame.\n",
      "Try using .loc[row_indexer,col_indexer] = value instead\n",
      "\n",
      "See the caveats in the documentation: https://pandas.pydata.org/pandas-docs/stable/user_guide/indexing.html#returning-a-view-versus-a-copy\n",
      "c:\\Users\\gabri\\AppData\\Local\\Programs\\Python\\Python37\\lib\\site-packages\\ipykernel_launcher.py:27: SettingWithCopyWarning: \n",
      "A value is trying to be set on a copy of a slice from a DataFrame.\n",
      "Try using .loc[row_indexer,col_indexer] = value instead\n",
      "\n",
      "See the caveats in the documentation: https://pandas.pydata.org/pandas-docs/stable/user_guide/indexing.html#returning-a-view-versus-a-copy\n",
      "c:\\Users\\gabri\\AppData\\Local\\Programs\\Python\\Python37\\lib\\site-packages\\ipykernel_launcher.py:30: SettingWithCopyWarning: \n",
      "A value is trying to be set on a copy of a slice from a DataFrame.\n",
      "Try using .loc[row_indexer,col_indexer] = value instead\n",
      "\n",
      "See the caveats in the documentation: https://pandas.pydata.org/pandas-docs/stable/user_guide/indexing.html#returning-a-view-versus-a-copy\n",
      "c:\\Users\\gabri\\AppData\\Local\\Programs\\Python\\Python37\\lib\\site-packages\\ipykernel_launcher.py:17: SettingWithCopyWarning: \n",
      "A value is trying to be set on a copy of a slice from a DataFrame.\n",
      "Try using .loc[row_indexer,col_indexer] = value instead\n",
      "\n",
      "See the caveats in the documentation: https://pandas.pydata.org/pandas-docs/stable/user_guide/indexing.html#returning-a-view-versus-a-copy\n",
      "c:\\Users\\gabri\\AppData\\Local\\Programs\\Python\\Python37\\lib\\site-packages\\ipykernel_launcher.py:21: SettingWithCopyWarning: \n",
      "A value is trying to be set on a copy of a slice from a DataFrame.\n",
      "Try using .loc[row_indexer,col_indexer] = value instead\n",
      "\n",
      "See the caveats in the documentation: https://pandas.pydata.org/pandas-docs/stable/user_guide/indexing.html#returning-a-view-versus-a-copy\n",
      "c:\\Users\\gabri\\AppData\\Local\\Programs\\Python\\Python37\\lib\\site-packages\\ipykernel_launcher.py:27: SettingWithCopyWarning: \n",
      "A value is trying to be set on a copy of a slice from a DataFrame.\n",
      "Try using .loc[row_indexer,col_indexer] = value instead\n",
      "\n",
      "See the caveats in the documentation: https://pandas.pydata.org/pandas-docs/stable/user_guide/indexing.html#returning-a-view-versus-a-copy\n",
      "c:\\Users\\gabri\\AppData\\Local\\Programs\\Python\\Python37\\lib\\site-packages\\ipykernel_launcher.py:30: SettingWithCopyWarning: \n",
      "A value is trying to be set on a copy of a slice from a DataFrame.\n",
      "Try using .loc[row_indexer,col_indexer] = value instead\n",
      "\n",
      "See the caveats in the documentation: https://pandas.pydata.org/pandas-docs/stable/user_guide/indexing.html#returning-a-view-versus-a-copy\n",
      "c:\\Users\\gabri\\AppData\\Local\\Programs\\Python\\Python37\\lib\\site-packages\\ipykernel_launcher.py:27: SettingWithCopyWarning: \n",
      "A value is trying to be set on a copy of a slice from a DataFrame.\n",
      "Try using .loc[row_indexer,col_indexer] = value instead\n",
      "\n",
      "See the caveats in the documentation: https://pandas.pydata.org/pandas-docs/stable/user_guide/indexing.html#returning-a-view-versus-a-copy\n",
      "c:\\Users\\gabri\\AppData\\Local\\Programs\\Python\\Python37\\lib\\site-packages\\ipykernel_launcher.py:30: SettingWithCopyWarning: \n",
      "A value is trying to be set on a copy of a slice from a DataFrame.\n",
      "Try using .loc[row_indexer,col_indexer] = value instead\n",
      "\n",
      "See the caveats in the documentation: https://pandas.pydata.org/pandas-docs/stable/user_guide/indexing.html#returning-a-view-versus-a-copy\n",
      "c:\\Users\\gabri\\AppData\\Local\\Programs\\Python\\Python37\\lib\\site-packages\\ipykernel_launcher.py:17: SettingWithCopyWarning: \n",
      "A value is trying to be set on a copy of a slice from a DataFrame.\n",
      "Try using .loc[row_indexer,col_indexer] = value instead\n",
      "\n",
      "See the caveats in the documentation: https://pandas.pydata.org/pandas-docs/stable/user_guide/indexing.html#returning-a-view-versus-a-copy\n",
      "c:\\Users\\gabri\\AppData\\Local\\Programs\\Python\\Python37\\lib\\site-packages\\ipykernel_launcher.py:21: SettingWithCopyWarning: \n",
      "A value is trying to be set on a copy of a slice from a DataFrame.\n",
      "Try using .loc[row_indexer,col_indexer] = value instead\n",
      "\n",
      "See the caveats in the documentation: https://pandas.pydata.org/pandas-docs/stable/user_guide/indexing.html#returning-a-view-versus-a-copy\n",
      "c:\\Users\\gabri\\AppData\\Local\\Programs\\Python\\Python37\\lib\\site-packages\\ipykernel_launcher.py:27: SettingWithCopyWarning: \n",
      "A value is trying to be set on a copy of a slice from a DataFrame.\n",
      "Try using .loc[row_indexer,col_indexer] = value instead\n",
      "\n",
      "See the caveats in the documentation: https://pandas.pydata.org/pandas-docs/stable/user_guide/indexing.html#returning-a-view-versus-a-copy\n",
      "c:\\Users\\gabri\\AppData\\Local\\Programs\\Python\\Python37\\lib\\site-packages\\ipykernel_launcher.py:30: SettingWithCopyWarning: \n",
      "A value is trying to be set on a copy of a slice from a DataFrame.\n",
      "Try using .loc[row_indexer,col_indexer] = value instead\n",
      "\n",
      "See the caveats in the documentation: https://pandas.pydata.org/pandas-docs/stable/user_guide/indexing.html#returning-a-view-versus-a-copy\n",
      "c:\\Users\\gabri\\AppData\\Local\\Programs\\Python\\Python37\\lib\\site-packages\\ipykernel_launcher.py:27: SettingWithCopyWarning: \n",
      "A value is trying to be set on a copy of a slice from a DataFrame.\n",
      "Try using .loc[row_indexer,col_indexer] = value instead\n",
      "\n",
      "See the caveats in the documentation: https://pandas.pydata.org/pandas-docs/stable/user_guide/indexing.html#returning-a-view-versus-a-copy\n",
      "c:\\Users\\gabri\\AppData\\Local\\Programs\\Python\\Python37\\lib\\site-packages\\ipykernel_launcher.py:30: SettingWithCopyWarning: \n",
      "A value is trying to be set on a copy of a slice from a DataFrame.\n",
      "Try using .loc[row_indexer,col_indexer] = value instead\n",
      "\n",
      "See the caveats in the documentation: https://pandas.pydata.org/pandas-docs/stable/user_guide/indexing.html#returning-a-view-versus-a-copy\n"
     ]
    }
   ],
   "source": [
    "cv = 5\n",
    "clf_lm = make_pipeline(filling_na(),LGBMRegressor(random_state=RS) )\n",
    "scores = cross_validate(clf_lm, df_train_light.drop(['perc_dec'],axis=1), df_train_light.perc_dec, cv=cv,\n",
    "                            return_train_score = True, return_estimator = True)"
   ]
  },
  {
   "cell_type": "code",
   "execution_count": 333,
   "metadata": {},
   "outputs": [
    {
     "data": {
      "text/plain": [
       "{'fit_time': array([0.23398161, 0.08950925, 0.07562852, 0.11420465, 0.09295774]),\n",
       " 'score_time': array([0.008147  , 0.00598383, 0.00717187, 0.0071876 , 0.0069809 ]),\n",
       " 'estimator': (Pipeline(steps=[('filling_na',\n",
       "                   <__main__.filling_na object at 0x0000020DC271DD68>),\n",
       "                  ('lgbmregressor', LGBMRegressor(random_state=42))]),\n",
       "  Pipeline(steps=[('filling_na',\n",
       "                   <__main__.filling_na object at 0x0000020DC2740710>),\n",
       "                  ('lgbmregressor', LGBMRegressor(random_state=42))]),\n",
       "  Pipeline(steps=[('filling_na',\n",
       "                   <__main__.filling_na object at 0x0000020DBDD09DA0>),\n",
       "                  ('lgbmregressor', LGBMRegressor(random_state=42))]),\n",
       "  Pipeline(steps=[('filling_na',\n",
       "                   <__main__.filling_na object at 0x0000020DC27151D0>),\n",
       "                  ('lgbmregressor', LGBMRegressor(random_state=42))]),\n",
       "  Pipeline(steps=[('filling_na',\n",
       "                   <__main__.filling_na object at 0x0000020DC27F4860>),\n",
       "                  ('lgbmregressor', LGBMRegressor(random_state=42))])),\n",
       " 'test_score': array([0.70354467, 0.64220786, 0.67291024, 0.5866691 , 0.62528545]),\n",
       " 'train_score': array([0.87732514, 0.88241193, 0.87954265, 0.88564787, 0.88550252])}"
      ]
     },
     "execution_count": 333,
     "metadata": {},
     "output_type": "execute_result"
    }
   ],
   "source": [
    "scores"
   ]
  },
  {
   "cell_type": "code",
   "execution_count": 334,
   "metadata": {},
   "outputs": [],
   "source": [
    "df_train_light['light_fit'] = scores['estimator'][0].predict(df_train_light.drop(['perc_dec'],axis=1))"
   ]
  },
  {
   "cell_type": "code",
   "execution_count": 335,
   "metadata": {},
   "outputs": [
    {
     "data": {
      "text/plain": [
       "0.8394486280045252"
      ]
     },
     "execution_count": 335,
     "metadata": {},
     "output_type": "execute_result"
    }
   ],
   "source": [
    "r2_score(df_train_light.perc_dec,df_train_light.light_fit)"
   ]
  },
  {
   "cell_type": "code",
   "execution_count": 336,
   "metadata": {},
   "outputs": [],
   "source": [
    "df_valid_light['light_fit'] = scores['estimator'][0].predict(df_valid_light.drop(['perc_dec'],axis=1))"
   ]
  },
  {
   "cell_type": "code",
   "execution_count": 337,
   "metadata": {},
   "outputs": [
    {
     "data": {
      "text/plain": [
       "0.6586404199491684"
      ]
     },
     "execution_count": 337,
     "metadata": {},
     "output_type": "execute_result"
    }
   ],
   "source": [
    "r2_score(df_valid_light.perc_dec,df_valid_light.light_fit)"
   ]
  },
  {
   "cell_type": "code",
   "execution_count": 338,
   "metadata": {},
   "outputs": [
    {
     "name": "stderr",
     "output_type": "stream",
     "text": [
      "c:\\Users\\gabri\\AppData\\Local\\Programs\\Python\\Python37\\lib\\site-packages\\seaborn\\_decorators.py:43: FutureWarning: Pass the following variables as keyword args: x, y. From version 0.12, the only valid positional argument will be `data`, and passing other arguments without an explicit keyword will result in an error or misinterpretation.\n",
      "  FutureWarning\n"
     ]
    },
    {
     "data": {
      "text/plain": [
       "<AxesSubplot:xlabel='perc_dec', ylabel='light_fit'>"
      ]
     },
     "execution_count": 338,
     "metadata": {},
     "output_type": "execute_result"
    },
    {
     "data": {
      "image/png": "[encoded data removed]",
      "text/plain": [
       "<Figure size 432x288 with 1 Axes>"
      ]
     },
     "metadata": {
      "needs_background": "light"
     },
     "output_type": "display_data"
    }
   ],
   "source": [
    "sns.scatterplot(df_valid_light.perc_dec,df_valid_light.light_fit)"
   ]
  },
  {
   "cell_type": "code",
   "execution_count": 342,
   "metadata": {},
   "outputs": [
    {
     "data": {
      "text/plain": [
       "array([501, 618, 557,  37,  54,  22,  36,   9,  11,  18,   9,  21,  35,\n",
       "        47, 512,  39,  14,  23,  14,  11,   4,   6,   8,   1,   5,  13,\n",
       "        15,  13,  17,  15,   0,  26,  15,   4,  34,  30,   5,   0,   0,\n",
       "         0,  10,   2,   0,   2,   0,   0,   0,   0,   0,   5,   0,   0,\n",
       "         0,   0,  18,  10,   0,   0,   4,   0,   0,  15,   6,  56,   2,\n",
       "         0,   0,   0,   0,   4,   0,   0,   0,  10,   0,   5,  15,   0,\n",
       "         0,   2,  20,  15])"
      ]
     },
     "execution_count": 342,
     "metadata": {},
     "output_type": "execute_result"
    }
   ],
   "source": [
    "scores['estimator'][0][1].feature_importances_"
   ]
  },
  {
   "cell_type": "code",
   "execution_count": 344,
   "metadata": {},
   "outputs": [
    {
     "data": {
      "text/plain": [
       "Index(['auction_item_min_bid_value', 'auction_item_market_price',\n",
       "       'auction_item_km', 'AIR BAG', 'ALARME', 'AR CONDICIONADO',\n",
       "       'CÂMBIO AUTOMÁTICO', 'DIREÇÃO HIDRÁULICA', 'TETO SOLAR',\n",
       "       'VIDRO ELÉTRICO', 'SEM_CHAVE', 'TRINCADO', 'AVARIADO', 'SINISTRO',\n",
       "       'item_age', 'perc_dec', 'brand_name_FIAT', 'brand_name_FORD',\n",
       "       'brand_name_GM', 'brand_name_HONDA', 'brand_name_HYUNDAY',\n",
       "       'brand_name_JAC', 'brand_name_JEEP', 'brand_name_MERCEDES BENZ',\n",
       "       'brand_name_MMC', 'brand_name_NISSAN', 'brand_name_OUTROS',\n",
       "       'brand_name_PEUGEOT', 'brand_name_RENAULT', 'brand_name_TOYOTA',\n",
       "       'brand_name_VW', 'brand_name_YAMAHA', 'color_BRANCA', 'color_CINZA',\n",
       "       'color_OUTROS', 'color_PRATA', 'color_PRETA', 'color_VERMELHA',\n",
       "       'model_208', 'model_ARGO', 'model_C3', 'model_CELTA', 'model_CG',\n",
       "       'model_CIVIC', 'model_CLASSIC', 'model_COMPASS', 'model_COROLLA',\n",
       "       'model_CRUZE', 'model_DUSTER', 'model_ECOSPORT', 'model_FIESTA',\n",
       "       'model_FIT', 'model_FOCUS', 'model_FOX', 'model_FUSION', 'model_GOL',\n",
       "       'model_HB20', 'model_HB20S', 'model_J3', 'model_KA', 'model_KWID',\n",
       "       'model_LOGAN', 'model_NOVO', 'model_ONIX', 'model_OUTROS',\n",
       "       'model_PALIO', 'model_POLO', 'model_PRISMA', 'model_RANGER',\n",
       "       'model_RENEGADE', 'model_S10', 'model_SANDERO', 'model_SANTA',\n",
       "       'model_SAVEIRO', 'model_SIENA', 'model_SPIN', 'model_STRADA',\n",
       "       'model_UNO', 'model_VERSA', 'model_VIRTUS', 'model_VOYAGE',\n",
       "       'auction_item_gas_type_FLEX', 'auction_item_gas_type_GASOLINA'],\n",
       "      dtype='object')"
      ]
     },
     "execution_count": 344,
     "metadata": {},
     "output_type": "execute_result"
    }
   ],
   "source": [
    "df_train.columns"
   ]
  },
  {
   "attachments": {},
   "cell_type": "markdown",
   "metadata": {},
   "source": [
    "### XGBoost"
   ]
  },
  {
   "cell_type": "code",
   "execution_count": 345,
   "metadata": {},
   "outputs": [],
   "source": [
    "df_train_xgb, df_valid_xgb = df_train.copy(), df_valid.copy()"
   ]
  },
  {
   "cell_type": "code",
   "execution_count": 346,
   "metadata": {},
   "outputs": [
    {
     "name": "stderr",
     "output_type": "stream",
     "text": [
      "c:\\Users\\gabri\\AppData\\Local\\Programs\\Python\\Python37\\lib\\site-packages\\ipykernel_launcher.py:17: SettingWithCopyWarning: \n",
      "A value is trying to be set on a copy of a slice from a DataFrame.\n",
      "Try using .loc[row_indexer,col_indexer] = value instead\n",
      "\n",
      "See the caveats in the documentation: https://pandas.pydata.org/pandas-docs/stable/user_guide/indexing.html#returning-a-view-versus-a-copy\n",
      "c:\\Users\\gabri\\AppData\\Local\\Programs\\Python\\Python37\\lib\\site-packages\\ipykernel_launcher.py:21: SettingWithCopyWarning: \n",
      "A value is trying to be set on a copy of a slice from a DataFrame.\n",
      "Try using .loc[row_indexer,col_indexer] = value instead\n",
      "\n",
      "See the caveats in the documentation: https://pandas.pydata.org/pandas-docs/stable/user_guide/indexing.html#returning-a-view-versus-a-copy\n",
      "c:\\Users\\gabri\\AppData\\Local\\Programs\\Python\\Python37\\lib\\site-packages\\ipykernel_launcher.py:27: SettingWithCopyWarning: \n",
      "A value is trying to be set on a copy of a slice from a DataFrame.\n",
      "Try using .loc[row_indexer,col_indexer] = value instead\n",
      "\n",
      "See the caveats in the documentation: https://pandas.pydata.org/pandas-docs/stable/user_guide/indexing.html#returning-a-view-versus-a-copy\n",
      "c:\\Users\\gabri\\AppData\\Local\\Programs\\Python\\Python37\\lib\\site-packages\\ipykernel_launcher.py:30: SettingWithCopyWarning: \n",
      "A value is trying to be set on a copy of a slice from a DataFrame.\n",
      "Try using .loc[row_indexer,col_indexer] = value instead\n",
      "\n",
      "See the caveats in the documentation: https://pandas.pydata.org/pandas-docs/stable/user_guide/indexing.html#returning-a-view-versus-a-copy\n",
      "c:\\Users\\gabri\\AppData\\Local\\Programs\\Python\\Python37\\lib\\site-packages\\ipykernel_launcher.py:27: SettingWithCopyWarning: \n",
      "A value is trying to be set on a copy of a slice from a DataFrame.\n",
      "Try using .loc[row_indexer,col_indexer] = value instead\n",
      "\n",
      "See the caveats in the documentation: https://pandas.pydata.org/pandas-docs/stable/user_guide/indexing.html#returning-a-view-versus-a-copy\n",
      "c:\\Users\\gabri\\AppData\\Local\\Programs\\Python\\Python37\\lib\\site-packages\\ipykernel_launcher.py:30: SettingWithCopyWarning: \n",
      "A value is trying to be set on a copy of a slice from a DataFrame.\n",
      "Try using .loc[row_indexer,col_indexer] = value instead\n",
      "\n",
      "See the caveats in the documentation: https://pandas.pydata.org/pandas-docs/stable/user_guide/indexing.html#returning-a-view-versus-a-copy\n",
      "c:\\Users\\gabri\\AppData\\Local\\Programs\\Python\\Python37\\lib\\site-packages\\ipykernel_launcher.py:17: SettingWithCopyWarning: \n",
      "A value is trying to be set on a copy of a slice from a DataFrame.\n",
      "Try using .loc[row_indexer,col_indexer] = value instead\n",
      "\n",
      "See the caveats in the documentation: https://pandas.pydata.org/pandas-docs/stable/user_guide/indexing.html#returning-a-view-versus-a-copy\n",
      "c:\\Users\\gabri\\AppData\\Local\\Programs\\Python\\Python37\\lib\\site-packages\\ipykernel_launcher.py:21: SettingWithCopyWarning: \n",
      "A value is trying to be set on a copy of a slice from a DataFrame.\n",
      "Try using .loc[row_indexer,col_indexer] = value instead\n",
      "\n",
      "See the caveats in the documentation: https://pandas.pydata.org/pandas-docs/stable/user_guide/indexing.html#returning-a-view-versus-a-copy\n",
      "c:\\Users\\gabri\\AppData\\Local\\Programs\\Python\\Python37\\lib\\site-packages\\ipykernel_launcher.py:27: SettingWithCopyWarning: \n",
      "A value is trying to be set on a copy of a slice from a DataFrame.\n",
      "Try using .loc[row_indexer,col_indexer] = value instead\n",
      "\n",
      "See the caveats in the documentation: https://pandas.pydata.org/pandas-docs/stable/user_guide/indexing.html#returning-a-view-versus-a-copy\n",
      "c:\\Users\\gabri\\AppData\\Local\\Programs\\Python\\Python37\\lib\\site-packages\\ipykernel_launcher.py:30: SettingWithCopyWarning: \n",
      "A value is trying to be set on a copy of a slice from a DataFrame.\n",
      "Try using .loc[row_indexer,col_indexer] = value instead\n",
      "\n",
      "See the caveats in the documentation: https://pandas.pydata.org/pandas-docs/stable/user_guide/indexing.html#returning-a-view-versus-a-copy\n",
      "c:\\Users\\gabri\\AppData\\Local\\Programs\\Python\\Python37\\lib\\site-packages\\ipykernel_launcher.py:27: SettingWithCopyWarning: \n",
      "A value is trying to be set on a copy of a slice from a DataFrame.\n",
      "Try using .loc[row_indexer,col_indexer] = value instead\n",
      "\n",
      "See the caveats in the documentation: https://pandas.pydata.org/pandas-docs/stable/user_guide/indexing.html#returning-a-view-versus-a-copy\n",
      "c:\\Users\\gabri\\AppData\\Local\\Programs\\Python\\Python37\\lib\\site-packages\\ipykernel_launcher.py:30: SettingWithCopyWarning: \n",
      "A value is trying to be set on a copy of a slice from a DataFrame.\n",
      "Try using .loc[row_indexer,col_indexer] = value instead\n",
      "\n",
      "See the caveats in the documentation: https://pandas.pydata.org/pandas-docs/stable/user_guide/indexing.html#returning-a-view-versus-a-copy\n",
      "c:\\Users\\gabri\\AppData\\Local\\Programs\\Python\\Python37\\lib\\site-packages\\ipykernel_launcher.py:17: SettingWithCopyWarning: \n",
      "A value is trying to be set on a copy of a slice from a DataFrame.\n",
      "Try using .loc[row_indexer,col_indexer] = value instead\n",
      "\n",
      "See the caveats in the documentation: https://pandas.pydata.org/pandas-docs/stable/user_guide/indexing.html#returning-a-view-versus-a-copy\n",
      "c:\\Users\\gabri\\AppData\\Local\\Programs\\Python\\Python37\\lib\\site-packages\\ipykernel_launcher.py:21: SettingWithCopyWarning: \n",
      "A value is trying to be set on a copy of a slice from a DataFrame.\n",
      "Try using .loc[row_indexer,col_indexer] = value instead\n",
      "\n",
      "See the caveats in the documentation: https://pandas.pydata.org/pandas-docs/stable/user_guide/indexing.html#returning-a-view-versus-a-copy\n",
      "c:\\Users\\gabri\\AppData\\Local\\Programs\\Python\\Python37\\lib\\site-packages\\ipykernel_launcher.py:27: SettingWithCopyWarning: \n",
      "A value is trying to be set on a copy of a slice from a DataFrame.\n",
      "Try using .loc[row_indexer,col_indexer] = value instead\n",
      "\n",
      "See the caveats in the documentation: https://pandas.pydata.org/pandas-docs/stable/user_guide/indexing.html#returning-a-view-versus-a-copy\n",
      "c:\\Users\\gabri\\AppData\\Local\\Programs\\Python\\Python37\\lib\\site-packages\\ipykernel_launcher.py:30: SettingWithCopyWarning: \n",
      "A value is trying to be set on a copy of a slice from a DataFrame.\n",
      "Try using .loc[row_indexer,col_indexer] = value instead\n",
      "\n",
      "See the caveats in the documentation: https://pandas.pydata.org/pandas-docs/stable/user_guide/indexing.html#returning-a-view-versus-a-copy\n",
      "c:\\Users\\gabri\\AppData\\Local\\Programs\\Python\\Python37\\lib\\site-packages\\ipykernel_launcher.py:27: SettingWithCopyWarning: \n",
      "A value is trying to be set on a copy of a slice from a DataFrame.\n",
      "Try using .loc[row_indexer,col_indexer] = value instead\n",
      "\n",
      "See the caveats in the documentation: https://pandas.pydata.org/pandas-docs/stable/user_guide/indexing.html#returning-a-view-versus-a-copy\n",
      "c:\\Users\\gabri\\AppData\\Local\\Programs\\Python\\Python37\\lib\\site-packages\\ipykernel_launcher.py:30: SettingWithCopyWarning: \n",
      "A value is trying to be set on a copy of a slice from a DataFrame.\n",
      "Try using .loc[row_indexer,col_indexer] = value instead\n",
      "\n",
      "See the caveats in the documentation: https://pandas.pydata.org/pandas-docs/stable/user_guide/indexing.html#returning-a-view-versus-a-copy\n",
      "c:\\Users\\gabri\\AppData\\Local\\Programs\\Python\\Python37\\lib\\site-packages\\ipykernel_launcher.py:17: SettingWithCopyWarning: \n",
      "A value is trying to be set on a copy of a slice from a DataFrame.\n",
      "Try using .loc[row_indexer,col_indexer] = value instead\n",
      "\n",
      "See the caveats in the documentation: https://pandas.pydata.org/pandas-docs/stable/user_guide/indexing.html#returning-a-view-versus-a-copy\n",
      "c:\\Users\\gabri\\AppData\\Local\\Programs\\Python\\Python37\\lib\\site-packages\\ipykernel_launcher.py:21: SettingWithCopyWarning: \n",
      "A value is trying to be set on a copy of a slice from a DataFrame.\n",
      "Try using .loc[row_indexer,col_indexer] = value instead\n",
      "\n",
      "See the caveats in the documentation: https://pandas.pydata.org/pandas-docs/stable/user_guide/indexing.html#returning-a-view-versus-a-copy\n",
      "c:\\Users\\gabri\\AppData\\Local\\Programs\\Python\\Python37\\lib\\site-packages\\ipykernel_launcher.py:27: SettingWithCopyWarning: \n",
      "A value is trying to be set on a copy of a slice from a DataFrame.\n",
      "Try using .loc[row_indexer,col_indexer] = value instead\n",
      "\n",
      "See the caveats in the documentation: https://pandas.pydata.org/pandas-docs/stable/user_guide/indexing.html#returning-a-view-versus-a-copy\n",
      "c:\\Users\\gabri\\AppData\\Local\\Programs\\Python\\Python37\\lib\\site-packages\\ipykernel_launcher.py:30: SettingWithCopyWarning: \n",
      "A value is trying to be set on a copy of a slice from a DataFrame.\n",
      "Try using .loc[row_indexer,col_indexer] = value instead\n",
      "\n",
      "See the caveats in the documentation: https://pandas.pydata.org/pandas-docs/stable/user_guide/indexing.html#returning-a-view-versus-a-copy\n",
      "c:\\Users\\gabri\\AppData\\Local\\Programs\\Python\\Python37\\lib\\site-packages\\ipykernel_launcher.py:27: SettingWithCopyWarning: \n",
      "A value is trying to be set on a copy of a slice from a DataFrame.\n",
      "Try using .loc[row_indexer,col_indexer] = value instead\n",
      "\n",
      "See the caveats in the documentation: https://pandas.pydata.org/pandas-docs/stable/user_guide/indexing.html#returning-a-view-versus-a-copy\n",
      "c:\\Users\\gabri\\AppData\\Local\\Programs\\Python\\Python37\\lib\\site-packages\\ipykernel_launcher.py:30: SettingWithCopyWarning: \n",
      "A value is trying to be set on a copy of a slice from a DataFrame.\n",
      "Try using .loc[row_indexer,col_indexer] = value instead\n",
      "\n",
      "See the caveats in the documentation: https://pandas.pydata.org/pandas-docs/stable/user_guide/indexing.html#returning-a-view-versus-a-copy\n",
      "c:\\Users\\gabri\\AppData\\Local\\Programs\\Python\\Python37\\lib\\site-packages\\ipykernel_launcher.py:17: SettingWithCopyWarning: \n",
      "A value is trying to be set on a copy of a slice from a DataFrame.\n",
      "Try using .loc[row_indexer,col_indexer] = value instead\n",
      "\n",
      "See the caveats in the documentation: https://pandas.pydata.org/pandas-docs/stable/user_guide/indexing.html#returning-a-view-versus-a-copy\n",
      "c:\\Users\\gabri\\AppData\\Local\\Programs\\Python\\Python37\\lib\\site-packages\\ipykernel_launcher.py:21: SettingWithCopyWarning: \n",
      "A value is trying to be set on a copy of a slice from a DataFrame.\n",
      "Try using .loc[row_indexer,col_indexer] = value instead\n",
      "\n",
      "See the caveats in the documentation: https://pandas.pydata.org/pandas-docs/stable/user_guide/indexing.html#returning-a-view-versus-a-copy\n",
      "c:\\Users\\gabri\\AppData\\Local\\Programs\\Python\\Python37\\lib\\site-packages\\ipykernel_launcher.py:27: SettingWithCopyWarning: \n",
      "A value is trying to be set on a copy of a slice from a DataFrame.\n",
      "Try using .loc[row_indexer,col_indexer] = value instead\n",
      "\n",
      "See the caveats in the documentation: https://pandas.pydata.org/pandas-docs/stable/user_guide/indexing.html#returning-a-view-versus-a-copy\n",
      "c:\\Users\\gabri\\AppData\\Local\\Programs\\Python\\Python37\\lib\\site-packages\\ipykernel_launcher.py:30: SettingWithCopyWarning: \n",
      "A value is trying to be set on a copy of a slice from a DataFrame.\n",
      "Try using .loc[row_indexer,col_indexer] = value instead\n",
      "\n",
      "See the caveats in the documentation: https://pandas.pydata.org/pandas-docs/stable/user_guide/indexing.html#returning-a-view-versus-a-copy\n",
      "c:\\Users\\gabri\\AppData\\Local\\Programs\\Python\\Python37\\lib\\site-packages\\ipykernel_launcher.py:27: SettingWithCopyWarning: \n",
      "A value is trying to be set on a copy of a slice from a DataFrame.\n",
      "Try using .loc[row_indexer,col_indexer] = value instead\n",
      "\n",
      "See the caveats in the documentation: https://pandas.pydata.org/pandas-docs/stable/user_guide/indexing.html#returning-a-view-versus-a-copy\n",
      "c:\\Users\\gabri\\AppData\\Local\\Programs\\Python\\Python37\\lib\\site-packages\\ipykernel_launcher.py:30: SettingWithCopyWarning: \n",
      "A value is trying to be set on a copy of a slice from a DataFrame.\n",
      "Try using .loc[row_indexer,col_indexer] = value instead\n",
      "\n",
      "See the caveats in the documentation: https://pandas.pydata.org/pandas-docs/stable/user_guide/indexing.html#returning-a-view-versus-a-copy\n"
     ]
    }
   ],
   "source": [
    "cv = 5\n",
    "clf_lm = make_pipeline(filling_na(),XGBRegressor(random_state=RS) )\n",
    "scores = cross_validate(clf_lm, df_train_xgb.drop(['perc_dec'],axis=1), df_train_xgb.perc_dec, cv=cv,\n",
    "                            return_train_score = True, return_estimator = True)"
   ]
  },
  {
   "cell_type": "code",
   "execution_count": 347,
   "metadata": {},
   "outputs": [
    {
     "data": {
      "text/plain": [
       "{'fit_time': array([1.72311616, 0.1466589 , 0.16968346, 0.15972686, 0.15235162]),\n",
       " 'score_time': array([0.00772238, 0.00870204, 0.00855541, 0.00925875, 0.00732684]),\n",
       " 'estimator': (Pipeline(steps=[('filling_na',\n",
       "                   <__main__.filling_na object at 0x0000020DBDEA5D30>),\n",
       "                  ('xgbregressor',\n",
       "                   XGBRegressor(base_score=0.5, booster='gbtree',\n",
       "                                colsample_bylevel=1, colsample_bynode=1,\n",
       "                                colsample_bytree=1, gamma=0, gpu_id=-1,\n",
       "                                importance_type='gain',\n",
       "                                interaction_constraints='',\n",
       "                                learning_rate=0.300000012, max_delta_step=0,\n",
       "                                max_depth=6, min_child_weight=1, missing=nan,\n",
       "                                monotone_constraints='()', n_estimators=100,\n",
       "                                n_jobs=0, num_parallel_tree=1, random_state=42,\n",
       "                                reg_alpha=0, reg_lambda=1, scale_pos_weight=1,\n",
       "                                subsample=1, tree_method='exact',\n",
       "                                validate_parameters=1, verbosity=None))]),\n",
       "  Pipeline(steps=[('filling_na',\n",
       "                   <__main__.filling_na object at 0x0000020DBDEA5EF0>),\n",
       "                  ('xgbregressor',\n",
       "                   XGBRegressor(base_score=0.5, booster='gbtree',\n",
       "                                colsample_bylevel=1, colsample_bynode=1,\n",
       "                                colsample_bytree=1, gamma=0, gpu_id=-1,\n",
       "                                importance_type='gain',\n",
       "                                interaction_constraints='',\n",
       "                                learning_rate=0.300000012, max_delta_step=0,\n",
       "                                max_depth=6, min_child_weight=1, missing=nan,\n",
       "                                monotone_constraints='()', n_estimators=100,\n",
       "                                n_jobs=0, num_parallel_tree=1, random_state=42,\n",
       "                                reg_alpha=0, reg_lambda=1, scale_pos_weight=1,\n",
       "                                subsample=1, tree_method='exact',\n",
       "                                validate_parameters=1, verbosity=None))]),\n",
       "  Pipeline(steps=[('filling_na',\n",
       "                   <__main__.filling_na object at 0x0000020DBDD09438>),\n",
       "                  ('xgbregressor',\n",
       "                   XGBRegressor(base_score=0.5, booster='gbtree',\n",
       "                                colsample_bylevel=1, colsample_bynode=1,\n",
       "                                colsample_bytree=1, gamma=0, gpu_id=-1,\n",
       "                                importance_type='gain',\n",
       "                                interaction_constraints='',\n",
       "                                learning_rate=0.300000012, max_delta_step=0,\n",
       "                                max_depth=6, min_child_weight=1, missing=nan,\n",
       "                                monotone_constraints='()', n_estimators=100,\n",
       "                                n_jobs=0, num_parallel_tree=1, random_state=42,\n",
       "                                reg_alpha=0, reg_lambda=1, scale_pos_weight=1,\n",
       "                                subsample=1, tree_method='exact',\n",
       "                                validate_parameters=1, verbosity=None))]),\n",
       "  Pipeline(steps=[('filling_na',\n",
       "                   <__main__.filling_na object at 0x0000020DC2731240>),\n",
       "                  ('xgbregressor',\n",
       "                   XGBRegressor(base_score=0.5, booster='gbtree',\n",
       "                                colsample_bylevel=1, colsample_bynode=1,\n",
       "                                colsample_bytree=1, gamma=0, gpu_id=-1,\n",
       "                                importance_type='gain',\n",
       "                                interaction_constraints='',\n",
       "                                learning_rate=0.300000012, max_delta_step=0,\n",
       "                                max_depth=6, min_child_weight=1, missing=nan,\n",
       "                                monotone_constraints='()', n_estimators=100,\n",
       "                                n_jobs=0, num_parallel_tree=1, random_state=42,\n",
       "                                reg_alpha=0, reg_lambda=1, scale_pos_weight=1,\n",
       "                                subsample=1, tree_method='exact',\n",
       "                                validate_parameters=1, verbosity=None))]),\n",
       "  Pipeline(steps=[('filling_na',\n",
       "                   <__main__.filling_na object at 0x0000020DBDFA6F28>),\n",
       "                  ('xgbregressor',\n",
       "                   XGBRegressor(base_score=0.5, booster='gbtree',\n",
       "                                colsample_bylevel=1, colsample_bynode=1,\n",
       "                                colsample_bytree=1, gamma=0, gpu_id=-1,\n",
       "                                importance_type='gain',\n",
       "                                interaction_constraints='',\n",
       "                                learning_rate=0.300000012, max_delta_step=0,\n",
       "                                max_depth=6, min_child_weight=1, missing=nan,\n",
       "                                monotone_constraints='()', n_estimators=100,\n",
       "                                n_jobs=0, num_parallel_tree=1, random_state=42,\n",
       "                                reg_alpha=0, reg_lambda=1, scale_pos_weight=1,\n",
       "                                subsample=1, tree_method='exact',\n",
       "                                validate_parameters=1, verbosity=None))])),\n",
       " 'test_score': array([0.73738924, 0.61289472, 0.64863817, 0.61888397, 0.63787589]),\n",
       " 'train_score': array([0.96944806, 0.9733606 , 0.973488  , 0.97114788, 0.97425812])}"
      ]
     },
     "execution_count": 347,
     "metadata": {},
     "output_type": "execute_result"
    }
   ],
   "source": [
    "scores"
   ]
  },
  {
   "cell_type": "code",
   "execution_count": 348,
   "metadata": {},
   "outputs": [],
   "source": [
    "df_train_xgb['xgb_fit'] = scores['estimator'][0].predict(df_train_xgb.drop(['perc_dec'],axis=1))"
   ]
  },
  {
   "cell_type": "code",
   "execution_count": 350,
   "metadata": {},
   "outputs": [
    {
     "data": {
      "text/plain": [
       "0.9188435151610848"
      ]
     },
     "execution_count": 350,
     "metadata": {},
     "output_type": "execute_result"
    }
   ],
   "source": [
    "r2_score(df_train_xgb.perc_dec,df_train_xgb.xgb_fit)"
   ]
  },
  {
   "cell_type": "code",
   "execution_count": 351,
   "metadata": {},
   "outputs": [],
   "source": [
    "df_valid_xgb['xgb_fit'] = scores['estimator'][0].predict(df_valid_xgb.drop(['perc_dec'],axis=1))"
   ]
  },
  {
   "cell_type": "code",
   "execution_count": 352,
   "metadata": {},
   "outputs": [
    {
     "data": {
      "text/plain": [
       "0.6436057028958636"
      ]
     },
     "execution_count": 352,
     "metadata": {},
     "output_type": "execute_result"
    }
   ],
   "source": [
    "r2_score(df_valid_xgb.perc_dec,df_valid_xgb.xgb_fit)"
   ]
  },
  {
   "cell_type": "code",
   "execution_count": 353,
   "metadata": {},
   "outputs": [
    {
     "name": "stderr",
     "output_type": "stream",
     "text": [
      "c:\\Users\\gabri\\AppData\\Local\\Programs\\Python\\Python37\\lib\\site-packages\\seaborn\\_decorators.py:43: FutureWarning: Pass the following variables as keyword args: x, y. From version 0.12, the only valid positional argument will be `data`, and passing other arguments without an explicit keyword will result in an error or misinterpretation.\n",
      "  FutureWarning\n"
     ]
    },
    {
     "data": {
      "text/plain": [
       "<AxesSubplot:xlabel='perc_dec', ylabel='xgb_fit'>"
      ]
     },
     "execution_count": 353,
     "metadata": {},
     "output_type": "execute_result"
    },
    {
     "data": {
      "image/png": "[encoded data removed]",
      "text/plain": [
       "<Figure size 432x288 with 1 Axes>"
      ]
     },
     "metadata": {
      "needs_background": "light"
     },
     "output_type": "display_data"
    }
   ],
   "source": [
    "sns.scatterplot(df_valid_xgb.perc_dec,df_valid_xgb.xgb_fit)"
   ]
  },
  {
   "cell_type": "code",
   "execution_count": 354,
   "metadata": {},
   "outputs": [
    {
     "data": {
      "text/plain": [
       "array([0.01163236, 0.01258365, 0.01242097, 0.02359527, 0.01326594,\n",
       "       0.01896462, 0.0058291 , 0.01294824, 0.00578399, 0.00958553,\n",
       "       0.03404789, 0.00580318, 0.01132977, 0.0274378 , 0.03163091,\n",
       "       0.02159513, 0.01492448, 0.02210162, 0.01978418, 0.00710141,\n",
       "       0.01548073, 0.00596756, 0.00788319, 0.01445267, 0.01098308,\n",
       "       0.03648897, 0.00500928, 0.01122078, 0.01396042, 0.01303266,\n",
       "       0.00257073, 0.00853882, 0.00906764, 0.00381442, 0.01598826,\n",
       "       0.01199106, 0.0093099 , 0.00315337, 0.00207984, 0.01343204,\n",
       "       0.01178884, 0.00500867, 0.00468879, 0.00336217, 0.00438422,\n",
       "       0.02412815, 0.01129664, 0.00384333, 0.00470325, 0.00664749,\n",
       "       0.01945311, 0.00823365, 0.01315439, 0.00842896, 0.00772315,\n",
       "       0.0145397 , 0.00214425, 0.01613276, 0.02467881, 0.00188267,\n",
       "       0.00296094, 0.02051536, 0.00845377, 0.01632131, 0.01187533,\n",
       "       0.00933366, 0.0103061 , 0.00460761, 0.        , 0.02216745,\n",
       "       0.00464289, 0.02915654, 0.00782661, 0.01066985, 0.01624066,\n",
       "       0.02192929, 0.02473165, 0.        , 0.00063675, 0.01642871,\n",
       "       0.02397954, 0.00420154], dtype=float32)"
      ]
     },
     "execution_count": 354,
     "metadata": {},
     "output_type": "execute_result"
    }
   ],
   "source": [
    "scores['estimator'][0][1].feature_importances_"
   ]
  },
  {
   "cell_type": "code",
   "execution_count": 355,
   "metadata": {},
   "outputs": [
    {
     "data": {
      "text/plain": [
       "Index(['auction_item_min_bid_value', 'auction_item_market_price',\n",
       "       'auction_item_km', 'AIR BAG', 'ALARME', 'AR CONDICIONADO',\n",
       "       'CÂMBIO AUTOMÁTICO', 'DIREÇÃO HIDRÁULICA', 'TETO SOLAR',\n",
       "       'VIDRO ELÉTRICO', 'SEM_CHAVE', 'TRINCADO', 'AVARIADO', 'SINISTRO',\n",
       "       'item_age', 'perc_dec', 'brand_name_FIAT', 'brand_name_FORD',\n",
       "       'brand_name_GM', 'brand_name_HONDA', 'brand_name_HYUNDAY',\n",
       "       'brand_name_JAC', 'brand_name_JEEP', 'brand_name_MERCEDES BENZ',\n",
       "       'brand_name_MMC', 'brand_name_NISSAN', 'brand_name_OUTROS',\n",
       "       'brand_name_PEUGEOT', 'brand_name_RENAULT', 'brand_name_TOYOTA',\n",
       "       'brand_name_VW', 'brand_name_YAMAHA', 'color_BRANCA', 'color_CINZA',\n",
       "       'color_OUTROS', 'color_PRATA', 'color_PRETA', 'color_VERMELHA',\n",
       "       'model_208', 'model_ARGO', 'model_C3', 'model_CELTA', 'model_CG',\n",
       "       'model_CIVIC', 'model_CLASSIC', 'model_COMPASS', 'model_COROLLA',\n",
       "       'model_CRUZE', 'model_DUSTER', 'model_ECOSPORT', 'model_FIESTA',\n",
       "       'model_FIT', 'model_FOCUS', 'model_FOX', 'model_FUSION', 'model_GOL',\n",
       "       'model_HB20', 'model_HB20S', 'model_J3', 'model_KA', 'model_KWID',\n",
       "       'model_LOGAN', 'model_NOVO', 'model_ONIX', 'model_OUTROS',\n",
       "       'model_PALIO', 'model_POLO', 'model_PRISMA', 'model_RANGER',\n",
       "       'model_RENEGADE', 'model_S10', 'model_SANDERO', 'model_SANTA',\n",
       "       'model_SAVEIRO', 'model_SIENA', 'model_SPIN', 'model_STRADA',\n",
       "       'model_UNO', 'model_VERSA', 'model_VIRTUS', 'model_VOYAGE',\n",
       "       'auction_item_gas_type_FLEX', 'auction_item_gas_type_GASOLINA',\n",
       "       'xgb_fit'],\n",
       "      dtype='object')"
      ]
     },
     "execution_count": 355,
     "metadata": {},
     "output_type": "execute_result"
    }
   ],
   "source": [
    "df_valid_xgb.columns"
   ]
  },
  {
   "attachments": {},
   "cell_type": "markdown",
   "metadata": {},
   "source": [
    "### Random Forest"
   ]
  },
  {
   "cell_type": "code",
   "execution_count": 356,
   "metadata": {},
   "outputs": [],
   "source": [
    "df_train_rfr, df_valid_rfr = df_train.copy(), df_valid.copy()"
   ]
  },
  {
   "cell_type": "code",
   "execution_count": 357,
   "metadata": {},
   "outputs": [
    {
     "name": "stderr",
     "output_type": "stream",
     "text": [
      "c:\\Users\\gabri\\AppData\\Local\\Programs\\Python\\Python37\\lib\\site-packages\\ipykernel_launcher.py:17: SettingWithCopyWarning: \n",
      "A value is trying to be set on a copy of a slice from a DataFrame.\n",
      "Try using .loc[row_indexer,col_indexer] = value instead\n",
      "\n",
      "See the caveats in the documentation: https://pandas.pydata.org/pandas-docs/stable/user_guide/indexing.html#returning-a-view-versus-a-copy\n",
      "c:\\Users\\gabri\\AppData\\Local\\Programs\\Python\\Python37\\lib\\site-packages\\ipykernel_launcher.py:21: SettingWithCopyWarning: \n",
      "A value is trying to be set on a copy of a slice from a DataFrame.\n",
      "Try using .loc[row_indexer,col_indexer] = value instead\n",
      "\n",
      "See the caveats in the documentation: https://pandas.pydata.org/pandas-docs/stable/user_guide/indexing.html#returning-a-view-versus-a-copy\n",
      "c:\\Users\\gabri\\AppData\\Local\\Programs\\Python\\Python37\\lib\\site-packages\\ipykernel_launcher.py:27: SettingWithCopyWarning: \n",
      "A value is trying to be set on a copy of a slice from a DataFrame.\n",
      "Try using .loc[row_indexer,col_indexer] = value instead\n",
      "\n",
      "See the caveats in the documentation: https://pandas.pydata.org/pandas-docs/stable/user_guide/indexing.html#returning-a-view-versus-a-copy\n",
      "c:\\Users\\gabri\\AppData\\Local\\Programs\\Python\\Python37\\lib\\site-packages\\ipykernel_launcher.py:30: SettingWithCopyWarning: \n",
      "A value is trying to be set on a copy of a slice from a DataFrame.\n",
      "Try using .loc[row_indexer,col_indexer] = value instead\n",
      "\n",
      "See the caveats in the documentation: https://pandas.pydata.org/pandas-docs/stable/user_guide/indexing.html#returning-a-view-versus-a-copy\n",
      "c:\\Users\\gabri\\AppData\\Local\\Programs\\Python\\Python37\\lib\\site-packages\\ipykernel_launcher.py:27: SettingWithCopyWarning: \n",
      "A value is trying to be set on a copy of a slice from a DataFrame.\n",
      "Try using .loc[row_indexer,col_indexer] = value instead\n",
      "\n",
      "See the caveats in the documentation: https://pandas.pydata.org/pandas-docs/stable/user_guide/indexing.html#returning-a-view-versus-a-copy\n",
      "c:\\Users\\gabri\\AppData\\Local\\Programs\\Python\\Python37\\lib\\site-packages\\ipykernel_launcher.py:30: SettingWithCopyWarning: \n",
      "A value is trying to be set on a copy of a slice from a DataFrame.\n",
      "Try using .loc[row_indexer,col_indexer] = value instead\n",
      "\n",
      "See the caveats in the documentation: https://pandas.pydata.org/pandas-docs/stable/user_guide/indexing.html#returning-a-view-versus-a-copy\n",
      "c:\\Users\\gabri\\AppData\\Local\\Programs\\Python\\Python37\\lib\\site-packages\\ipykernel_launcher.py:17: SettingWithCopyWarning: \n",
      "A value is trying to be set on a copy of a slice from a DataFrame.\n",
      "Try using .loc[row_indexer,col_indexer] = value instead\n",
      "\n",
      "See the caveats in the documentation: https://pandas.pydata.org/pandas-docs/stable/user_guide/indexing.html#returning-a-view-versus-a-copy\n",
      "c:\\Users\\gabri\\AppData\\Local\\Programs\\Python\\Python37\\lib\\site-packages\\ipykernel_launcher.py:21: SettingWithCopyWarning: \n",
      "A value is trying to be set on a copy of a slice from a DataFrame.\n",
      "Try using .loc[row_indexer,col_indexer] = value instead\n",
      "\n",
      "See the caveats in the documentation: https://pandas.pydata.org/pandas-docs/stable/user_guide/indexing.html#returning-a-view-versus-a-copy\n",
      "c:\\Users\\gabri\\AppData\\Local\\Programs\\Python\\Python37\\lib\\site-packages\\ipykernel_launcher.py:27: SettingWithCopyWarning: \n",
      "A value is trying to be set on a copy of a slice from a DataFrame.\n",
      "Try using .loc[row_indexer,col_indexer] = value instead\n",
      "\n",
      "See the caveats in the documentation: https://pandas.pydata.org/pandas-docs/stable/user_guide/indexing.html#returning-a-view-versus-a-copy\n",
      "c:\\Users\\gabri\\AppData\\Local\\Programs\\Python\\Python37\\lib\\site-packages\\ipykernel_launcher.py:30: SettingWithCopyWarning: \n",
      "A value is trying to be set on a copy of a slice from a DataFrame.\n",
      "Try using .loc[row_indexer,col_indexer] = value instead\n",
      "\n",
      "See the caveats in the documentation: https://pandas.pydata.org/pandas-docs/stable/user_guide/indexing.html#returning-a-view-versus-a-copy\n",
      "c:\\Users\\gabri\\AppData\\Local\\Programs\\Python\\Python37\\lib\\site-packages\\ipykernel_launcher.py:27: SettingWithCopyWarning: \n",
      "A value is trying to be set on a copy of a slice from a DataFrame.\n",
      "Try using .loc[row_indexer,col_indexer] = value instead\n",
      "\n",
      "See the caveats in the documentation: https://pandas.pydata.org/pandas-docs/stable/user_guide/indexing.html#returning-a-view-versus-a-copy\n",
      "c:\\Users\\gabri\\AppData\\Local\\Programs\\Python\\Python37\\lib\\site-packages\\ipykernel_launcher.py:30: SettingWithCopyWarning: \n",
      "A value is trying to be set on a copy of a slice from a DataFrame.\n",
      "Try using .loc[row_indexer,col_indexer] = value instead\n",
      "\n",
      "See the caveats in the documentation: https://pandas.pydata.org/pandas-docs/stable/user_guide/indexing.html#returning-a-view-versus-a-copy\n",
      "c:\\Users\\gabri\\AppData\\Local\\Programs\\Python\\Python37\\lib\\site-packages\\ipykernel_launcher.py:17: SettingWithCopyWarning: \n",
      "A value is trying to be set on a copy of a slice from a DataFrame.\n",
      "Try using .loc[row_indexer,col_indexer] = value instead\n",
      "\n",
      "See the caveats in the documentation: https://pandas.pydata.org/pandas-docs/stable/user_guide/indexing.html#returning-a-view-versus-a-copy\n",
      "c:\\Users\\gabri\\AppData\\Local\\Programs\\Python\\Python37\\lib\\site-packages\\ipykernel_launcher.py:21: SettingWithCopyWarning: \n",
      "A value is trying to be set on a copy of a slice from a DataFrame.\n",
      "Try using .loc[row_indexer,col_indexer] = value instead\n",
      "\n",
      "See the caveats in the documentation: https://pandas.pydata.org/pandas-docs/stable/user_guide/indexing.html#returning-a-view-versus-a-copy\n",
      "c:\\Users\\gabri\\AppData\\Local\\Programs\\Python\\Python37\\lib\\site-packages\\ipykernel_launcher.py:27: SettingWithCopyWarning: \n",
      "A value is trying to be set on a copy of a slice from a DataFrame.\n",
      "Try using .loc[row_indexer,col_indexer] = value instead\n",
      "\n",
      "See the caveats in the documentation: https://pandas.pydata.org/pandas-docs/stable/user_guide/indexing.html#returning-a-view-versus-a-copy\n",
      "c:\\Users\\gabri\\AppData\\Local\\Programs\\Python\\Python37\\lib\\site-packages\\ipykernel_launcher.py:30: SettingWithCopyWarning: \n",
      "A value is trying to be set on a copy of a slice from a DataFrame.\n",
      "Try using .loc[row_indexer,col_indexer] = value instead\n",
      "\n",
      "See the caveats in the documentation: https://pandas.pydata.org/pandas-docs/stable/user_guide/indexing.html#returning-a-view-versus-a-copy\n",
      "c:\\Users\\gabri\\AppData\\Local\\Programs\\Python\\Python37\\lib\\site-packages\\ipykernel_launcher.py:27: SettingWithCopyWarning: \n",
      "A value is trying to be set on a copy of a slice from a DataFrame.\n",
      "Try using .loc[row_indexer,col_indexer] = value instead\n",
      "\n",
      "See the caveats in the documentation: https://pandas.pydata.org/pandas-docs/stable/user_guide/indexing.html#returning-a-view-versus-a-copy\n",
      "c:\\Users\\gabri\\AppData\\Local\\Programs\\Python\\Python37\\lib\\site-packages\\ipykernel_launcher.py:30: SettingWithCopyWarning: \n",
      "A value is trying to be set on a copy of a slice from a DataFrame.\n",
      "Try using .loc[row_indexer,col_indexer] = value instead\n",
      "\n",
      "See the caveats in the documentation: https://pandas.pydata.org/pandas-docs/stable/user_guide/indexing.html#returning-a-view-versus-a-copy\n",
      "c:\\Users\\gabri\\AppData\\Local\\Programs\\Python\\Python37\\lib\\site-packages\\ipykernel_launcher.py:17: SettingWithCopyWarning: \n",
      "A value is trying to be set on a copy of a slice from a DataFrame.\n",
      "Try using .loc[row_indexer,col_indexer] = value instead\n",
      "\n",
      "See the caveats in the documentation: https://pandas.pydata.org/pandas-docs/stable/user_guide/indexing.html#returning-a-view-versus-a-copy\n",
      "c:\\Users\\gabri\\AppData\\Local\\Programs\\Python\\Python37\\lib\\site-packages\\ipykernel_launcher.py:21: SettingWithCopyWarning: \n",
      "A value is trying to be set on a copy of a slice from a DataFrame.\n",
      "Try using .loc[row_indexer,col_indexer] = value instead\n",
      "\n",
      "See the caveats in the documentation: https://pandas.pydata.org/pandas-docs/stable/user_guide/indexing.html#returning-a-view-versus-a-copy\n",
      "c:\\Users\\gabri\\AppData\\Local\\Programs\\Python\\Python37\\lib\\site-packages\\ipykernel_launcher.py:27: SettingWithCopyWarning: \n",
      "A value is trying to be set on a copy of a slice from a DataFrame.\n",
      "Try using .loc[row_indexer,col_indexer] = value instead\n",
      "\n",
      "See the caveats in the documentation: https://pandas.pydata.org/pandas-docs/stable/user_guide/indexing.html#returning-a-view-versus-a-copy\n",
      "c:\\Users\\gabri\\AppData\\Local\\Programs\\Python\\Python37\\lib\\site-packages\\ipykernel_launcher.py:30: SettingWithCopyWarning: \n",
      "A value is trying to be set on a copy of a slice from a DataFrame.\n",
      "Try using .loc[row_indexer,col_indexer] = value instead\n",
      "\n",
      "See the caveats in the documentation: https://pandas.pydata.org/pandas-docs/stable/user_guide/indexing.html#returning-a-view-versus-a-copy\n",
      "c:\\Users\\gabri\\AppData\\Local\\Programs\\Python\\Python37\\lib\\site-packages\\ipykernel_launcher.py:27: SettingWithCopyWarning: \n",
      "A value is trying to be set on a copy of a slice from a DataFrame.\n",
      "Try using .loc[row_indexer,col_indexer] = value instead\n",
      "\n",
      "See the caveats in the documentation: https://pandas.pydata.org/pandas-docs/stable/user_guide/indexing.html#returning-a-view-versus-a-copy\n",
      "c:\\Users\\gabri\\AppData\\Local\\Programs\\Python\\Python37\\lib\\site-packages\\ipykernel_launcher.py:30: SettingWithCopyWarning: \n",
      "A value is trying to be set on a copy of a slice from a DataFrame.\n",
      "Try using .loc[row_indexer,col_indexer] = value instead\n",
      "\n",
      "See the caveats in the documentation: https://pandas.pydata.org/pandas-docs/stable/user_guide/indexing.html#returning-a-view-versus-a-copy\n",
      "c:\\Users\\gabri\\AppData\\Local\\Programs\\Python\\Python37\\lib\\site-packages\\ipykernel_launcher.py:17: SettingWithCopyWarning: \n",
      "A value is trying to be set on a copy of a slice from a DataFrame.\n",
      "Try using .loc[row_indexer,col_indexer] = value instead\n",
      "\n",
      "See the caveats in the documentation: https://pandas.pydata.org/pandas-docs/stable/user_guide/indexing.html#returning-a-view-versus-a-copy\n",
      "c:\\Users\\gabri\\AppData\\Local\\Programs\\Python\\Python37\\lib\\site-packages\\ipykernel_launcher.py:21: SettingWithCopyWarning: \n",
      "A value is trying to be set on a copy of a slice from a DataFrame.\n",
      "Try using .loc[row_indexer,col_indexer] = value instead\n",
      "\n",
      "See the caveats in the documentation: https://pandas.pydata.org/pandas-docs/stable/user_guide/indexing.html#returning-a-view-versus-a-copy\n",
      "c:\\Users\\gabri\\AppData\\Local\\Programs\\Python\\Python37\\lib\\site-packages\\ipykernel_launcher.py:27: SettingWithCopyWarning: \n",
      "A value is trying to be set on a copy of a slice from a DataFrame.\n",
      "Try using .loc[row_indexer,col_indexer] = value instead\n",
      "\n",
      "See the caveats in the documentation: https://pandas.pydata.org/pandas-docs/stable/user_guide/indexing.html#returning-a-view-versus-a-copy\n",
      "c:\\Users\\gabri\\AppData\\Local\\Programs\\Python\\Python37\\lib\\site-packages\\ipykernel_launcher.py:30: SettingWithCopyWarning: \n",
      "A value is trying to be set on a copy of a slice from a DataFrame.\n",
      "Try using .loc[row_indexer,col_indexer] = value instead\n",
      "\n",
      "See the caveats in the documentation: https://pandas.pydata.org/pandas-docs/stable/user_guide/indexing.html#returning-a-view-versus-a-copy\n",
      "c:\\Users\\gabri\\AppData\\Local\\Programs\\Python\\Python37\\lib\\site-packages\\ipykernel_launcher.py:27: SettingWithCopyWarning: \n",
      "A value is trying to be set on a copy of a slice from a DataFrame.\n",
      "Try using .loc[row_indexer,col_indexer] = value instead\n",
      "\n",
      "See the caveats in the documentation: https://pandas.pydata.org/pandas-docs/stable/user_guide/indexing.html#returning-a-view-versus-a-copy\n",
      "c:\\Users\\gabri\\AppData\\Local\\Programs\\Python\\Python37\\lib\\site-packages\\ipykernel_launcher.py:30: SettingWithCopyWarning: \n",
      "A value is trying to be set on a copy of a slice from a DataFrame.\n",
      "Try using .loc[row_indexer,col_indexer] = value instead\n",
      "\n",
      "See the caveats in the documentation: https://pandas.pydata.org/pandas-docs/stable/user_guide/indexing.html#returning-a-view-versus-a-copy\n"
     ]
    }
   ],
   "source": [
    "cv = 5\n",
    "clf_lm = make_pipeline(filling_na(),RandomForestRegressor(random_state=RS) )\n",
    "scores = cross_validate(clf_lm, df_train_rfr.drop(['perc_dec'],axis=1), df_train_rfr.perc_dec, cv=cv,\n",
    "                            return_train_score = True, return_estimator = True)"
   ]
  },
  {
   "cell_type": "code",
   "execution_count": 358,
   "metadata": {},
   "outputs": [
    {
     "data": {
      "text/plain": [
       "{'fit_time': array([1.25269175, 1.34567499, 1.18020082, 1.18602991, 1.24177957]),\n",
       " 'score_time': array([0.02586079, 0.01703978, 0.01847458, 0.01838279, 0.02227378]),\n",
       " 'estimator': (Pipeline(steps=[('filling_na',\n",
       "                   <__main__.filling_na object at 0x0000020DC25D9048>),\n",
       "                  ('randomforestregressor',\n",
       "                   RandomForestRegressor(random_state=42))]),\n",
       "  Pipeline(steps=[('filling_na',\n",
       "                   <__main__.filling_na object at 0x0000020DC1E44DA0>),\n",
       "                  ('randomforestregressor',\n",
       "                   RandomForestRegressor(random_state=42))]),\n",
       "  Pipeline(steps=[('filling_na',\n",
       "                   <__main__.filling_na object at 0x0000020DBFDB4EB8>),\n",
       "                  ('randomforestregressor',\n",
       "                   RandomForestRegressor(random_state=42))]),\n",
       "  Pipeline(steps=[('filling_na',\n",
       "                   <__main__.filling_na object at 0x0000020DBDF7B860>),\n",
       "                  ('randomforestregressor',\n",
       "                   RandomForestRegressor(random_state=42))]),\n",
       "  Pipeline(steps=[('filling_na',\n",
       "                   <__main__.filling_na object at 0x0000020DC1E44CC0>),\n",
       "                  ('randomforestregressor',\n",
       "                   RandomForestRegressor(random_state=42))])),\n",
       " 'test_score': array([0.70487261, 0.64899123, 0.63921408, 0.62872274, 0.66527094]),\n",
       " 'train_score': array([0.94582716, 0.94841997, 0.94658828, 0.94752279, 0.94896251])}"
      ]
     },
     "execution_count": 358,
     "metadata": {},
     "output_type": "execute_result"
    }
   ],
   "source": [
    "scores"
   ]
  },
  {
   "cell_type": "code",
   "execution_count": 359,
   "metadata": {},
   "outputs": [],
   "source": [
    "df_train_rfr['rfr_fit'] = scores['estimator'][0].predict(df_train_rfr.drop(['perc_dec'],axis=1))"
   ]
  },
  {
   "cell_type": "code",
   "execution_count": 360,
   "metadata": {},
   "outputs": [
    {
     "data": {
      "text/plain": [
       "0.8932871069254019"
      ]
     },
     "execution_count": 360,
     "metadata": {},
     "output_type": "execute_result"
    }
   ],
   "source": [
    "r2_score(df_train_rfr.perc_dec,df_train_rfr.rfr_fit)"
   ]
  },
  {
   "cell_type": "code",
   "execution_count": 361,
   "metadata": {},
   "outputs": [],
   "source": [
    "df_valid_rfr['rfr_fit'] = scores['estimator'][0].predict(df_valid_rfr.drop(['perc_dec'],axis=1))"
   ]
  },
  {
   "cell_type": "code",
   "execution_count": 362,
   "metadata": {},
   "outputs": [
    {
     "data": {
      "text/plain": [
       "0.676945546061578"
      ]
     },
     "execution_count": 362,
     "metadata": {},
     "output_type": "execute_result"
    }
   ],
   "source": [
    "r2_score(df_valid_rfr.perc_dec,df_valid_rfr.rfr_fit)"
   ]
  },
  {
   "cell_type": "code",
   "execution_count": 363,
   "metadata": {},
   "outputs": [
    {
     "name": "stderr",
     "output_type": "stream",
     "text": [
      "c:\\Users\\gabri\\AppData\\Local\\Programs\\Python\\Python37\\lib\\site-packages\\seaborn\\_decorators.py:43: FutureWarning: Pass the following variables as keyword args: x, y. From version 0.12, the only valid positional argument will be `data`, and passing other arguments without an explicit keyword will result in an error or misinterpretation.\n",
      "  FutureWarning\n"
     ]
    },
    {
     "data": {
      "text/plain": [
       "<AxesSubplot:xlabel='perc_dec', ylabel='rfr_fit'>"
      ]
     },
     "execution_count": 363,
     "metadata": {},
     "output_type": "execute_result"
    },
    {
     "data": {
      "image/png": "[encoded data removed]",
      "text/plain": [
       "<Figure size 432x288 with 1 Axes>"
      ]
     },
     "metadata": {
      "needs_background": "light"
     },
     "output_type": "display_data"
    }
   ],
   "source": [
    "sns.scatterplot(df_valid_rfr.perc_dec,df_valid_rfr.rfr_fit)"
   ]
  },
  {
   "cell_type": "code",
   "execution_count": 364,
   "metadata": {},
   "outputs": [
    {
     "data": {
      "text/plain": [
       "array([1.45606022e-01, 1.46900109e-01, 1.24634617e-01, 7.87511172e-03,\n",
       "       1.11122167e-02, 6.48917549e-03, 6.76703843e-03, 4.53903532e-03,\n",
       "       4.93202501e-03, 4.98581243e-03, 9.21760026e-03, 6.84394690e-03,\n",
       "       1.35428729e-02, 1.40747140e-02, 3.04989009e-01, 9.99881326e-03,\n",
       "       3.64023824e-03, 7.86843175e-03, 1.39896889e-03, 3.30337250e-03,\n",
       "       2.65211061e-03, 6.48004443e-04, 3.76681880e-03, 2.13529649e-03,\n",
       "       3.36689251e-03, 7.09796096e-03, 1.76399068e-03, 3.82054292e-03,\n",
       "       3.79740024e-03, 7.11737617e-03, 5.68957764e-04, 6.81527270e-03,\n",
       "       5.38352218e-03, 4.72640014e-03, 1.08495243e-02, 1.06096041e-02,\n",
       "       3.46927468e-03, 6.04439207e-04, 5.65458731e-04, 1.58084541e-03,\n",
       "       3.62343130e-03, 2.39837340e-04, 1.27208000e-04, 9.63354249e-04,\n",
       "       2.65192583e-04, 1.61958045e-03, 6.88749202e-04, 4.74439046e-04,\n",
       "       1.23191338e-03, 3.19553404e-03, 4.89176598e-04, 5.05364797e-04,\n",
       "       1.41552017e-03, 2.06536354e-04, 6.04157299e-03, 9.65865998e-04,\n",
       "       2.42067415e-04, 6.64303542e-04, 1.48292235e-03, 9.27120084e-05,\n",
       "       9.98948761e-04, 5.19165090e-03, 1.50487905e-03, 9.45294808e-03,\n",
       "       1.35197991e-03, 4.92564307e-04, 6.69731187e-04, 1.02100412e-03,\n",
       "       3.00287516e-04, 5.11316321e-04, 8.87256002e-04, 8.48760927e-03,\n",
       "       5.48657092e-04, 5.05776329e-03, 2.31381812e-03, 2.58047790e-03,\n",
       "       5.28438198e-03, 3.23992308e-04, 1.26339368e-04, 2.35010760e-03,\n",
       "       2.98832485e-03, 2.96185577e-03])"
      ]
     },
     "execution_count": 364,
     "metadata": {},
     "output_type": "execute_result"
    }
   ],
   "source": [
    "scores['estimator'][0][1].feature_importances_"
   ]
  },
  {
   "cell_type": "code",
   "execution_count": 365,
   "metadata": {},
   "outputs": [
    {
     "data": {
      "text/plain": [
       "Index(['auction_item_min_bid_value', 'auction_item_market_price',\n",
       "       'auction_item_km', 'AIR BAG', 'ALARME', 'AR CONDICIONADO',\n",
       "       'CÂMBIO AUTOMÁTICO', 'DIREÇÃO HIDRÁULICA', 'TETO SOLAR',\n",
       "       'VIDRO ELÉTRICO', 'SEM_CHAVE', 'TRINCADO', 'AVARIADO', 'SINISTRO',\n",
       "       'item_age', 'perc_dec', 'brand_name_FIAT', 'brand_name_FORD',\n",
       "       'brand_name_GM', 'brand_name_HONDA', 'brand_name_HYUNDAY',\n",
       "       'brand_name_JAC', 'brand_name_JEEP', 'brand_name_MERCEDES BENZ',\n",
       "       'brand_name_MMC', 'brand_name_NISSAN', 'brand_name_OUTROS',\n",
       "       'brand_name_PEUGEOT', 'brand_name_RENAULT', 'brand_name_TOYOTA',\n",
       "       'brand_name_VW', 'brand_name_YAMAHA', 'color_BRANCA', 'color_CINZA',\n",
       "       'color_OUTROS', 'color_PRATA', 'color_PRETA', 'color_VERMELHA',\n",
       "       'model_208', 'model_ARGO', 'model_C3', 'model_CELTA', 'model_CG',\n",
       "       'model_CIVIC', 'model_CLASSIC', 'model_COMPASS', 'model_COROLLA',\n",
       "       'model_CRUZE', 'model_DUSTER', 'model_ECOSPORT', 'model_FIESTA',\n",
       "       'model_FIT', 'model_FOCUS', 'model_FOX', 'model_FUSION', 'model_GOL',\n",
       "       'model_HB20', 'model_HB20S', 'model_J3', 'model_KA', 'model_KWID',\n",
       "       'model_LOGAN', 'model_NOVO', 'model_ONIX', 'model_OUTROS',\n",
       "       'model_PALIO', 'model_POLO', 'model_PRISMA', 'model_RANGER',\n",
       "       'model_RENEGADE', 'model_S10', 'model_SANDERO', 'model_SANTA',\n",
       "       'model_SAVEIRO', 'model_SIENA', 'model_SPIN', 'model_STRADA',\n",
       "       'model_UNO', 'model_VERSA', 'model_VIRTUS', 'model_VOYAGE',\n",
       "       'auction_item_gas_type_FLEX', 'auction_item_gas_type_GASOLINA',\n",
       "       'xgb_fit'],\n",
       "      dtype='object')"
      ]
     },
     "execution_count": 365,
     "metadata": {},
     "output_type": "execute_result"
    }
   ],
   "source": [
    "df_valid_xgb.columns"
   ]
  }
 ],
 "metadata": {
  "kernelspec": {
   "display_name": "Python 3",
   "language": "python",
   "name": "python3"
  },
  "language_info": {
   "codemirror_mode": {
    "name": "ipython",
    "version": 3
   },
   "file_extension": ".py",
   "mimetype": "text/x-python",
   "name": "python",
   "nbconvert_exporter": "python",
   "pygments_lexer": "ipython3",
   "version": "3.7.0"
  },
  "orig_nbformat": 4,
  "vscode": {
   "interpreter": {
    "hash": "b1c48bfa55aad10950a784971f566084dc4f1d1e56735e6727b7d14ae8182804"
   }
  }
 },
 "nbformat": 4,
 "nbformat_minor": 2
}
